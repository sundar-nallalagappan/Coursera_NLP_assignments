{
  "nbformat": 4,
  "nbformat_minor": 0,
  "metadata": {
    "colab": {
      "provenance": [],
      "authorship_tag": "ABX9TyNWYhDEEFef7dRa4A4ZRTCE",
      "include_colab_link": true
    },
    "kernelspec": {
      "name": "python3",
      "display_name": "Python 3"
    },
    "language_info": {
      "name": "python"
    }
  },
  "cells": [
    {
      "cell_type": "markdown",
      "metadata": {
        "id": "view-in-github",
        "colab_type": "text"
      },
      "source": [
        "<a href=\"https://colab.research.google.com/github/sundar-nallalagappan/Coursera_NLP_assignments/blob/main/Word_prediction.ipynb\" target=\"_parent\"><img src=\"https://colab.research.google.com/assets/colab-badge.svg\" alt=\"Open In Colab\"/></a>"
      ]
    },
    {
      "cell_type": "code",
      "execution_count": 1,
      "metadata": {
        "colab": {
          "base_uri": "https://localhost:8080/"
        },
        "id": "9e5i2BSjfJjY",
        "outputId": "79acb043-1f3c-4c2b-d7fb-c2fa57d3754c"
      },
      "outputs": [
        {
          "output_type": "stream",
          "name": "stdout",
          "text": [
            "sairam\n"
          ]
        }
      ],
      "source": [
        "print(\"sairam\")"
      ]
    },
    {
      "cell_type": "code",
      "source": [
        "import tensorflow as tf\n",
        "import numpy as np\n",
        "from tensorflow.keras.layers import Embedding, LSTM, Dense, Bidirectional\n",
        "from tensorflow.keras.models import Sequential\n",
        "from tensorflow.keras.preprocessing.text import Tokenizer\n",
        "from tensorflow.keras.preprocessing.sequence import pad_sequences"
      ],
      "metadata": {
        "id": "N6Mf4EnqfPEZ"
      },
      "execution_count": 2,
      "outputs": []
    },
    {
      "cell_type": "code",
      "source": [
        "# Define the lyrics of the song\n",
        "data=\"In the town of Athy one Jeremy Lanigan \\n Battered away til he hadnt a pound. \\nHis father died and made him a man again \\n Left him a farm and ten acres of ground. \\nHe gave a grand party for friends and relations \\nWho didnt forget him when come to the wall, \\nAnd if youll but listen Ill make your eyes glisten \\nOf the rows and the ructions of Lanigans Ball. \\nMyself to be sure got free invitation, \\nFor all the nice girls and boys I might ask, \\nAnd just in a minute both friends and relations \\nWere dancing round merry as bees round a cask. \\nJudy ODaly, that nice little milliner, \\nShe tipped me a wink for to give her a call, \\nAnd I soon arrived with Peggy McGilligan \\nJust in time for Lanigans Ball. \\nThere were lashings of punch and wine for the ladies, \\nPotatoes and cakes; there was bacon and tea, \\nThere were the Nolans, Dolans, OGradys \\nCourting the girls and dancing away. \\nSongs they went round as plenty as water, \\nThe harp that once sounded in Taras old hall,\\nSweet Nelly Gray and The Rat Catchers Daughter,\\nAll singing together at Lanigans Ball. \\nThey were doing all kinds of nonsensical polkas \\nAll round the room in a whirligig. \\nJulia and I, we banished their nonsense \\nAnd tipped them the twist of a reel and a jig. \\nAch mavrone, how the girls got all mad at me \\nDanced til youd think the ceiling would fall. \\nFor I spent three weeks at Brooks Academy \\nLearning new steps for Lanigans Ball. \\nThree long weeks I spent up in Dublin, \\nThree long weeks to learn nothing at all,\\n Three long weeks I spent up in Dublin, \\nLearning new steps for Lanigans Ball. \\nShe stepped out and I stepped in again, \\nI stepped out and she stepped in again, \\nShe stepped out and I stepped in again, \\nLearning new steps for Lanigans Ball. \\nBoys were all merry and the girls they were hearty \\nAnd danced all around in couples and groups, \\nTil an accident happened, young Terrance McCarthy \\nPut his right leg through miss Finnertys hoops. \\nPoor creature fainted and cried Meelia murther, \\nCalled for her brothers and gathered them all. \\nCarmody swore that hed go no further \\nTil he had satisfaction at Lanigans Ball. \\nIn the midst of the row miss Kerrigan fainted, \\nHer cheeks at the same time as red as a rose. \\nSome of the lads declared she was painted, \\nShe took a small drop too much, I suppose. \\nHer sweetheart, Ned Morgan, so powerful and able, \\nWhen he saw his fair colleen stretched out by the wall, \\nTore the left leg from under the table \\nAnd smashed all the Chaneys at Lanigans Ball. \\nBoys, oh boys, twas then there were runctions. \\nMyself got a lick from big Phelim McHugh. \\nI soon replied to his introduction \\nAnd kicked up a terrible hullabaloo. \\nOld Casey, the piper, was near being strangled. \\nThey squeezed up his pipes, bellows, chanters and all. \\nThe girls, in their ribbons, they got all entangled \\nAnd that put an end to Lanigans Ball.\"\n",
        "print(data)"
      ],
      "metadata": {
        "colab": {
          "base_uri": "https://localhost:8080/"
        },
        "id": "bUhD1iUffUUw",
        "outputId": "ade0b6d1-891f-427f-8d67-a46e8ff93822"
      },
      "execution_count": 3,
      "outputs": [
        {
          "output_type": "stream",
          "name": "stdout",
          "text": [
            "In the town of Athy one Jeremy Lanigan \n",
            " Battered away til he hadnt a pound. \n",
            "His father died and made him a man again \n",
            " Left him a farm and ten acres of ground. \n",
            "He gave a grand party for friends and relations \n",
            "Who didnt forget him when come to the wall, \n",
            "And if youll but listen Ill make your eyes glisten \n",
            "Of the rows and the ructions of Lanigans Ball. \n",
            "Myself to be sure got free invitation, \n",
            "For all the nice girls and boys I might ask, \n",
            "And just in a minute both friends and relations \n",
            "Were dancing round merry as bees round a cask. \n",
            "Judy ODaly, that nice little milliner, \n",
            "She tipped me a wink for to give her a call, \n",
            "And I soon arrived with Peggy McGilligan \n",
            "Just in time for Lanigans Ball. \n",
            "There were lashings of punch and wine for the ladies, \n",
            "Potatoes and cakes; there was bacon and tea, \n",
            "There were the Nolans, Dolans, OGradys \n",
            "Courting the girls and dancing away. \n",
            "Songs they went round as plenty as water, \n",
            "The harp that once sounded in Taras old hall,\n",
            "Sweet Nelly Gray and The Rat Catchers Daughter,\n",
            "All singing together at Lanigans Ball. \n",
            "They were doing all kinds of nonsensical polkas \n",
            "All round the room in a whirligig. \n",
            "Julia and I, we banished their nonsense \n",
            "And tipped them the twist of a reel and a jig. \n",
            "Ach mavrone, how the girls got all mad at me \n",
            "Danced til youd think the ceiling would fall. \n",
            "For I spent three weeks at Brooks Academy \n",
            "Learning new steps for Lanigans Ball. \n",
            "Three long weeks I spent up in Dublin, \n",
            "Three long weeks to learn nothing at all,\n",
            " Three long weeks I spent up in Dublin, \n",
            "Learning new steps for Lanigans Ball. \n",
            "She stepped out and I stepped in again, \n",
            "I stepped out and she stepped in again, \n",
            "She stepped out and I stepped in again, \n",
            "Learning new steps for Lanigans Ball. \n",
            "Boys were all merry and the girls they were hearty \n",
            "And danced all around in couples and groups, \n",
            "Til an accident happened, young Terrance McCarthy \n",
            "Put his right leg through miss Finnertys hoops. \n",
            "Poor creature fainted and cried Meelia murther, \n",
            "Called for her brothers and gathered them all. \n",
            "Carmody swore that hed go no further \n",
            "Til he had satisfaction at Lanigans Ball. \n",
            "In the midst of the row miss Kerrigan fainted, \n",
            "Her cheeks at the same time as red as a rose. \n",
            "Some of the lads declared she was painted, \n",
            "She took a small drop too much, I suppose. \n",
            "Her sweetheart, Ned Morgan, so powerful and able, \n",
            "When he saw his fair colleen stretched out by the wall, \n",
            "Tore the left leg from under the table \n",
            "And smashed all the Chaneys at Lanigans Ball. \n",
            "Boys, oh boys, twas then there were runctions. \n",
            "Myself got a lick from big Phelim McHugh. \n",
            "I soon replied to his introduction \n",
            "And kicked up a terrible hullabaloo. \n",
            "Old Casey, the piper, was near being strangled. \n",
            "They squeezed up his pipes, bellows, chanters and all. \n",
            "The girls, in their ribbons, they got all entangled \n",
            "And that put an end to Lanigans Ball.\n"
          ]
        }
      ]
    },
    {
      "cell_type": "code",
      "source": [
        "corpus = data.split('\\n')\n",
        "print(f\"number of sentences: {len(corpus)}\")\n"
      ],
      "metadata": {
        "colab": {
          "base_uri": "https://localhost:8080/"
        },
        "id": "-6OINYWOfVtx",
        "outputId": "9d457158-730f-43cc-8bde-3cb8ecad0484"
      },
      "execution_count": 35,
      "outputs": [
        {
          "output_type": "stream",
          "name": "stdout",
          "text": [
            "number of sentences: 64\n"
          ]
        }
      ]
    },
    {
      "cell_type": "code",
      "source": [
        "corpus[0:5]"
      ],
      "metadata": {
        "colab": {
          "base_uri": "https://localhost:8080/"
        },
        "id": "BOArm2y9fepW",
        "outputId": "73d7f58a-5c87-409e-8986-674fd2b1d484"
      },
      "execution_count": 5,
      "outputs": [
        {
          "output_type": "execute_result",
          "data": {
            "text/plain": [
              "['In the town of Athy one Jeremy Lanigan ',\n",
              " ' Battered away til he hadnt a pound. ',\n",
              " 'His father died and made him a man again ',\n",
              " ' Left him a farm and ten acres of ground. ',\n",
              " 'He gave a grand party for friends and relations ']"
            ]
          },
          "metadata": {},
          "execution_count": 5
        }
      ]
    },
    {
      "cell_type": "code",
      "source": [
        "tokenizer = Tokenizer()\n",
        "tokenizer.fit_on_texts(corpus)\n",
        "word_index = tokenizer.word_index\n",
        "print(f\"Number of unique words in vocab {len(word_index)}\")\n",
        "word_index\n",
        "\n",
        "# Define the total words. You add 1 for the index `0` which is just the padding token.\n",
        "total_words = len(word_index) + 1"
      ],
      "metadata": {
        "colab": {
          "base_uri": "https://localhost:8080/"
        },
        "id": "87rCL9z8fhdE",
        "outputId": "52915538-a18b-4ee1-ef05-f50026269383"
      },
      "execution_count": 42,
      "outputs": [
        {
          "output_type": "stream",
          "name": "stdout",
          "text": [
            "Number of unique words in vocab 262\n"
          ]
        }
      ]
    },
    {
      "cell_type": "code",
      "source": [
        "sequences = tokenizer.texts_to_sequences(corpus)\n",
        "sequences"
      ],
      "metadata": {
        "id": "YQlFd9IWfsB6"
      },
      "execution_count": null,
      "outputs": []
    },
    {
      "cell_type": "code",
      "source": [
        "max_seq_len = np.max([len(row) for row in sequences])"
      ],
      "metadata": {
        "id": "Tt6D12zvhcYp"
      },
      "execution_count": 23,
      "outputs": []
    },
    {
      "cell_type": "code",
      "source": [
        "input_sequences = []\n",
        "\n",
        "for row in corpus:\n",
        "  token_text = tokenizer.texts_to_sequences([row])[0]\n",
        "\n",
        "  for i in range(len(token_text)):\n",
        "    n_gram_seq = token_text[:i+1]\n",
        "    input_sequences.append(n_gram_seq)"
      ],
      "metadata": {
        "id": "4mJu_wH5hZOu"
      },
      "execution_count": 20,
      "outputs": []
    },
    {
      "cell_type": "code",
      "source": [
        "input_sequences"
      ],
      "metadata": {
        "id": "paXzgaD9im7N"
      },
      "execution_count": null,
      "outputs": []
    },
    {
      "cell_type": "code",
      "source": [
        "padded = pad_sequences(input_sequences, maxlen=max_seq_len, padding=\"pre\")\n",
        "padded"
      ],
      "metadata": {
        "colab": {
          "base_uri": "https://localhost:8080/"
        },
        "id": "mSQzpCWSinh9",
        "outputId": "b51bba15-7624-45f1-ad3b-f9d7bd90656b"
      },
      "execution_count": 24,
      "outputs": [
        {
          "output_type": "execute_result",
          "data": {
            "text/plain": [
              "array([[  0,   0,   0, ...,   0,   0,   4],\n",
              "       [  0,   0,   0, ...,   0,   4,   2],\n",
              "       [  0,   0,   0, ...,   4,   2,  66],\n",
              "       ...,\n",
              "       [  0,   0,   0, ...,  60, 262,  13],\n",
              "       [  0,   0,   0, ..., 262,  13,   9],\n",
              "       [  0,   0,   0, ...,  13,   9,  10]], dtype=int32)"
            ]
          },
          "metadata": {},
          "execution_count": 24
        }
      ]
    },
    {
      "cell_type": "code",
      "source": [
        "padded[0:10]"
      ],
      "metadata": {
        "colab": {
          "base_uri": "https://localhost:8080/"
        },
        "id": "XnwXYM4Li0zP",
        "outputId": "cadca1da-e26a-4869-92e8-28a9e95e00d9"
      },
      "execution_count": 26,
      "outputs": [
        {
          "output_type": "execute_result",
          "data": {
            "text/plain": [
              "array([[ 0,  0,  0,  0,  0,  0,  0,  0,  0,  0,  4],\n",
              "       [ 0,  0,  0,  0,  0,  0,  0,  0,  0,  4,  2],\n",
              "       [ 0,  0,  0,  0,  0,  0,  0,  0,  4,  2, 66],\n",
              "       [ 0,  0,  0,  0,  0,  0,  0,  4,  2, 66,  8],\n",
              "       [ 0,  0,  0,  0,  0,  0,  4,  2, 66,  8, 67],\n",
              "       [ 0,  0,  0,  0,  0,  4,  2, 66,  8, 67, 68],\n",
              "       [ 0,  0,  0,  0,  4,  2, 66,  8, 67, 68, 69],\n",
              "       [ 0,  0,  0,  4,  2, 66,  8, 67, 68, 69, 70],\n",
              "       [ 0,  0,  0,  0,  0,  0,  0,  0,  0,  0, 71],\n",
              "       [ 0,  0,  0,  0,  0,  0,  0,  0,  0, 71, 40]], dtype=int32)"
            ]
          },
          "metadata": {},
          "execution_count": 26
        }
      ]
    },
    {
      "cell_type": "code",
      "source": [
        "Xs = padded[:,:-1]\n",
        "labels = padded[:,-1]\n",
        "\n",
        "Xs.shape, labels.shape"
      ],
      "metadata": {
        "colab": {
          "base_uri": "https://localhost:8080/"
        },
        "id": "lyflqXkXkwzR",
        "outputId": "0f52d72c-3e96-4172-ff9e-a307819acfa9"
      },
      "execution_count": 34,
      "outputs": [
        {
          "output_type": "execute_result",
          "data": {
            "text/plain": [
              "((517, 10), (517,))"
            ]
          },
          "metadata": {},
          "execution_count": 34
        }
      ]
    },
    {
      "cell_type": "code",
      "source": [
        "Ys = tf.keras.utils.to_categorical(labels, num_classes=total_words)"
      ],
      "metadata": {
        "id": "g9C_WLNzlElf"
      },
      "execution_count": 44,
      "outputs": []
    },
    {
      "cell_type": "code",
      "source": [
        "labels[0], Ys[0]"
      ],
      "metadata": {
        "colab": {
          "base_uri": "https://localhost:8080/"
        },
        "id": "iBAxc76olQll",
        "outputId": "f282f2c4-16a9-4d4b-a3b6-f55a13255d53"
      },
      "execution_count": 48,
      "outputs": [
        {
          "output_type": "execute_result",
          "data": {
            "text/plain": [
              "(4,\n",
              " array([0., 0., 0., 0., 1., 0., 0., 0., 0., 0., 0., 0., 0., 0., 0., 0., 0.,\n",
              "        0., 0., 0., 0., 0., 0., 0., 0., 0., 0., 0., 0., 0., 0., 0., 0., 0.,\n",
              "        0., 0., 0., 0., 0., 0., 0., 0., 0., 0., 0., 0., 0., 0., 0., 0., 0.,\n",
              "        0., 0., 0., 0., 0., 0., 0., 0., 0., 0., 0., 0., 0., 0., 0., 0., 0.,\n",
              "        0., 0., 0., 0., 0., 0., 0., 0., 0., 0., 0., 0., 0., 0., 0., 0., 0.,\n",
              "        0., 0., 0., 0., 0., 0., 0., 0., 0., 0., 0., 0., 0., 0., 0., 0., 0.,\n",
              "        0., 0., 0., 0., 0., 0., 0., 0., 0., 0., 0., 0., 0., 0., 0., 0., 0.,\n",
              "        0., 0., 0., 0., 0., 0., 0., 0., 0., 0., 0., 0., 0., 0., 0., 0., 0.,\n",
              "        0., 0., 0., 0., 0., 0., 0., 0., 0., 0., 0., 0., 0., 0., 0., 0., 0.,\n",
              "        0., 0., 0., 0., 0., 0., 0., 0., 0., 0., 0., 0., 0., 0., 0., 0., 0.,\n",
              "        0., 0., 0., 0., 0., 0., 0., 0., 0., 0., 0., 0., 0., 0., 0., 0., 0.,\n",
              "        0., 0., 0., 0., 0., 0., 0., 0., 0., 0., 0., 0., 0., 0., 0., 0., 0.,\n",
              "        0., 0., 0., 0., 0., 0., 0., 0., 0., 0., 0., 0., 0., 0., 0., 0., 0.,\n",
              "        0., 0., 0., 0., 0., 0., 0., 0., 0., 0., 0., 0., 0., 0., 0., 0., 0.,\n",
              "        0., 0., 0., 0., 0., 0., 0., 0., 0., 0., 0., 0., 0., 0., 0., 0., 0.,\n",
              "        0., 0., 0., 0., 0., 0., 0., 0.], dtype=float32))"
            ]
          },
          "metadata": {},
          "execution_count": 48
        }
      ]
    },
    {
      "cell_type": "code",
      "source": [
        "ele = 6\n",
        "print(Xs[ele])\n",
        "print(tokenizer.sequences_to_texts([Xs[ele]]))\n",
        "print(Ys[ele])"
      ],
      "metadata": {
        "colab": {
          "base_uri": "https://localhost:8080/"
        },
        "id": "C_hEGp_2mVYn",
        "outputId": "a66ef90d-790c-4413-ccf2-15d74a372c3b"
      },
      "execution_count": 56,
      "outputs": [
        {
          "output_type": "stream",
          "name": "stdout",
          "text": [
            "[ 0  0  0  0  4  2 66  8 67 68]\n",
            "['in the town of athy one']\n",
            "[0. 0. 0. 0. 0. 0. 0. 0. 0. 0. 0. 0. 0. 0. 0. 0. 0. 0. 0. 0. 0. 0. 0. 0.\n",
            " 0. 0. 0. 0. 0. 0. 0. 0. 0. 0. 0. 0. 0. 0. 0. 0. 0. 0. 0. 0. 0. 0. 0. 0.\n",
            " 0. 0. 0. 0. 0. 0. 0. 0. 0. 0. 0. 0. 0. 0. 0. 0. 0. 0. 0. 0. 0. 1. 0. 0.\n",
            " 0. 0. 0. 0. 0. 0. 0. 0. 0. 0. 0. 0. 0. 0. 0. 0. 0. 0. 0. 0. 0. 0. 0. 0.\n",
            " 0. 0. 0. 0. 0. 0. 0. 0. 0. 0. 0. 0. 0. 0. 0. 0. 0. 0. 0. 0. 0. 0. 0. 0.\n",
            " 0. 0. 0. 0. 0. 0. 0. 0. 0. 0. 0. 0. 0. 0. 0. 0. 0. 0. 0. 0. 0. 0. 0. 0.\n",
            " 0. 0. 0. 0. 0. 0. 0. 0. 0. 0. 0. 0. 0. 0. 0. 0. 0. 0. 0. 0. 0. 0. 0. 0.\n",
            " 0. 0. 0. 0. 0. 0. 0. 0. 0. 0. 0. 0. 0. 0. 0. 0. 0. 0. 0. 0. 0. 0. 0. 0.\n",
            " 0. 0. 0. 0. 0. 0. 0. 0. 0. 0. 0. 0. 0. 0. 0. 0. 0. 0. 0. 0. 0. 0. 0. 0.\n",
            " 0. 0. 0. 0. 0. 0. 0. 0. 0. 0. 0. 0. 0. 0. 0. 0. 0. 0. 0. 0. 0. 0. 0. 0.\n",
            " 0. 0. 0. 0. 0. 0. 0. 0. 0. 0. 0. 0. 0. 0. 0. 0. 0. 0. 0. 0. 0. 0. 0.]\n"
          ]
        }
      ]
    },
    {
      "cell_type": "code",
      "source": [
        "tokenizer.index_word.get(np.argmax(Ys[ele]))"
      ],
      "metadata": {
        "colab": {
          "base_uri": "https://localhost:8080/",
          "height": 35
        },
        "id": "AXI_q-oam5dC",
        "outputId": "34d9ec8e-e6fb-4ff8-d30d-e07a6d31b61a"
      },
      "execution_count": 62,
      "outputs": [
        {
          "output_type": "execute_result",
          "data": {
            "text/plain": [
              "'jeremy'"
            ],
            "application/vnd.google.colaboratory.intrinsic+json": {
              "type": "string"
            }
          },
          "metadata": {},
          "execution_count": 62
        }
      ]
    },
    {
      "cell_type": "markdown",
      "source": [
        "Build Model"
      ],
      "metadata": {
        "id": "ezPM_YQpnZ1h"
      }
    },
    {
      "cell_type": "code",
      "source": [
        "Ys.shape[1], total_words"
      ],
      "metadata": {
        "colab": {
          "base_uri": "https://localhost:8080/"
        },
        "id": "4dyE4pBVn54Y",
        "outputId": "990325d7-6e3b-45f9-a0d7-852861e9094a"
      },
      "execution_count": 64,
      "outputs": [
        {
          "output_type": "execute_result",
          "data": {
            "text/plain": [
              "(263, 263)"
            ]
          },
          "metadata": {},
          "execution_count": 64
        }
      ]
    },
    {
      "cell_type": "code",
      "source": [
        "model = Sequential()\n",
        "model.add(Embedding(total_words, 64, input_length=max_seq_len-1))\n",
        "model.add(Bidirectional(LSTM(32)))\n",
        "model.add(Dense(Ys.shape[1], \"softmax\"))\n",
        "\n",
        "model.compile(loss=\"categorical_crossentropy\", metrics=[\"accuracy\"], optimizer=\"adam\")\n",
        "\n",
        "model.summary()"
      ],
      "metadata": {
        "colab": {
          "base_uri": "https://localhost:8080/"
        },
        "id": "aVD8giWOnLyG",
        "outputId": "822d9464-2488-4fda-f6b2-82a2268dbc3c"
      },
      "execution_count": 70,
      "outputs": [
        {
          "output_type": "stream",
          "name": "stdout",
          "text": [
            "Model: \"sequential_1\"\n",
            "_________________________________________________________________\n",
            " Layer (type)                Output Shape              Param #   \n",
            "=================================================================\n",
            " embedding_1 (Embedding)     (None, 10, 64)            16832     \n",
            "                                                                 \n",
            " bidirectional_1 (Bidirectio  (None, 64)               24832     \n",
            " nal)                                                            \n",
            "                                                                 \n",
            " dense_1 (Dense)             (None, 263)               17095     \n",
            "                                                                 \n",
            "=================================================================\n",
            "Total params: 58,759\n",
            "Trainable params: 58,759\n",
            "Non-trainable params: 0\n",
            "_________________________________________________________________\n"
          ]
        }
      ]
    },
    {
      "cell_type": "code",
      "source": [
        "history = model.fit(Xs, Ys, epochs=500, batch_size=8)"
      ],
      "metadata": {
        "colab": {
          "base_uri": "https://localhost:8080/"
        },
        "id": "kELvCM_EoNio",
        "outputId": "80c82ab3-e5b0-42a5-8654-cb7e143fe5fb"
      },
      "execution_count": 71,
      "outputs": [
        {
          "output_type": "stream",
          "name": "stdout",
          "text": [
            "Epoch 1/500\n",
            "65/65 [==============================] - 5s 11ms/step - loss: 5.5437 - accuracy: 0.0406\n",
            "Epoch 2/500\n",
            "65/65 [==============================] - 1s 11ms/step - loss: 5.2181 - accuracy: 0.0484\n",
            "Epoch 3/500\n",
            "65/65 [==============================] - 1s 11ms/step - loss: 5.0557 - accuracy: 0.0580\n",
            "Epoch 4/500\n",
            "65/65 [==============================] - 1s 11ms/step - loss: 4.9572 - accuracy: 0.0522\n",
            "Epoch 5/500\n",
            "65/65 [==============================] - 1s 11ms/step - loss: 4.8627 - accuracy: 0.0580\n",
            "Epoch 6/500\n",
            "65/65 [==============================] - 1s 11ms/step - loss: 4.7546 - accuracy: 0.0522\n",
            "Epoch 7/500\n",
            "65/65 [==============================] - 1s 11ms/step - loss: 4.6330 - accuracy: 0.0716\n",
            "Epoch 8/500\n",
            "65/65 [==============================] - 1s 13ms/step - loss: 4.5309 - accuracy: 0.0832\n",
            "Epoch 9/500\n",
            "65/65 [==============================] - 1s 20ms/step - loss: 4.4216 - accuracy: 0.0870\n",
            "Epoch 10/500\n",
            "65/65 [==============================] - 1s 19ms/step - loss: 4.3118 - accuracy: 0.1064\n",
            "Epoch 11/500\n",
            "65/65 [==============================] - 1s 12ms/step - loss: 4.1978 - accuracy: 0.1199\n",
            "Epoch 12/500\n",
            "65/65 [==============================] - 1s 11ms/step - loss: 4.0791 - accuracy: 0.1315\n",
            "Epoch 13/500\n",
            "65/65 [==============================] - 1s 11ms/step - loss: 3.9587 - accuracy: 0.1509\n",
            "Epoch 14/500\n",
            "65/65 [==============================] - 1s 10ms/step - loss: 3.8432 - accuracy: 0.1605\n",
            "Epoch 15/500\n",
            "65/65 [==============================] - 1s 11ms/step - loss: 3.7208 - accuracy: 0.1857\n",
            "Epoch 16/500\n",
            "65/65 [==============================] - 1s 11ms/step - loss: 3.6013 - accuracy: 0.2205\n",
            "Epoch 17/500\n",
            "65/65 [==============================] - 1s 10ms/step - loss: 3.5001 - accuracy: 0.2437\n",
            "Epoch 18/500\n",
            "65/65 [==============================] - 1s 11ms/step - loss: 3.3961 - accuracy: 0.2669\n",
            "Epoch 19/500\n",
            "65/65 [==============================] - 1s 11ms/step - loss: 3.2735 - accuracy: 0.2805\n",
            "Epoch 20/500\n",
            "65/65 [==============================] - 1s 10ms/step - loss: 3.1566 - accuracy: 0.2979\n",
            "Epoch 21/500\n",
            "65/65 [==============================] - 1s 11ms/step - loss: 3.0573 - accuracy: 0.3269\n",
            "Epoch 22/500\n",
            "65/65 [==============================] - 1s 11ms/step - loss: 2.9511 - accuracy: 0.3559\n",
            "Epoch 23/500\n",
            "65/65 [==============================] - 1s 11ms/step - loss: 2.8522 - accuracy: 0.3849\n",
            "Epoch 24/500\n",
            "65/65 [==============================] - 1s 11ms/step - loss: 2.7603 - accuracy: 0.4004\n",
            "Epoch 25/500\n",
            "65/65 [==============================] - 1s 17ms/step - loss: 2.7229 - accuracy: 0.4081\n",
            "Epoch 26/500\n",
            "65/65 [==============================] - 1s 19ms/step - loss: 2.6082 - accuracy: 0.4429\n",
            "Epoch 27/500\n",
            "65/65 [==============================] - 1s 17ms/step - loss: 2.5237 - accuracy: 0.4720\n",
            "Epoch 28/500\n",
            "65/65 [==============================] - 1s 11ms/step - loss: 2.4365 - accuracy: 0.4836\n",
            "Epoch 29/500\n",
            "65/65 [==============================] - 1s 11ms/step - loss: 2.3535 - accuracy: 0.5184\n",
            "Epoch 30/500\n",
            "65/65 [==============================] - 1s 12ms/step - loss: 2.2842 - accuracy: 0.5280\n",
            "Epoch 31/500\n",
            "65/65 [==============================] - 1s 11ms/step - loss: 2.2376 - accuracy: 0.5609\n",
            "Epoch 32/500\n",
            "65/65 [==============================] - 1s 11ms/step - loss: 2.1702 - accuracy: 0.5667\n",
            "Epoch 33/500\n",
            "65/65 [==============================] - 1s 11ms/step - loss: 2.1179 - accuracy: 0.5938\n",
            "Epoch 34/500\n",
            "65/65 [==============================] - 1s 11ms/step - loss: 2.0470 - accuracy: 0.6112\n",
            "Epoch 35/500\n",
            "65/65 [==============================] - 1s 11ms/step - loss: 1.9870 - accuracy: 0.6035\n",
            "Epoch 36/500\n",
            "65/65 [==============================] - 1s 11ms/step - loss: 1.9392 - accuracy: 0.6248\n",
            "Epoch 37/500\n",
            "65/65 [==============================] - 1s 11ms/step - loss: 1.8728 - accuracy: 0.6441\n",
            "Epoch 38/500\n",
            "65/65 [==============================] - 1s 11ms/step - loss: 1.8383 - accuracy: 0.6499\n",
            "Epoch 39/500\n",
            "65/65 [==============================] - 1s 11ms/step - loss: 1.7803 - accuracy: 0.6654\n",
            "Epoch 40/500\n",
            "65/65 [==============================] - 1s 11ms/step - loss: 1.7163 - accuracy: 0.6750\n",
            "Epoch 41/500\n",
            "65/65 [==============================] - 1s 15ms/step - loss: 1.6803 - accuracy: 0.6905\n",
            "Epoch 42/500\n",
            "65/65 [==============================] - 1s 19ms/step - loss: 1.6165 - accuracy: 0.7137\n",
            "Epoch 43/500\n",
            "65/65 [==============================] - 1s 18ms/step - loss: 1.5920 - accuracy: 0.7060\n",
            "Epoch 44/500\n",
            "65/65 [==============================] - 1s 11ms/step - loss: 1.5494 - accuracy: 0.7099\n",
            "Epoch 45/500\n",
            "65/65 [==============================] - 1s 11ms/step - loss: 1.5245 - accuracy: 0.7292\n",
            "Epoch 46/500\n",
            "65/65 [==============================] - 1s 11ms/step - loss: 1.4818 - accuracy: 0.7234\n",
            "Epoch 47/500\n",
            "65/65 [==============================] - 1s 11ms/step - loss: 1.4347 - accuracy: 0.7389\n",
            "Epoch 48/500\n",
            "65/65 [==============================] - 1s 11ms/step - loss: 1.4106 - accuracy: 0.7485\n",
            "Epoch 49/500\n",
            "65/65 [==============================] - 1s 11ms/step - loss: 1.3787 - accuracy: 0.7447\n",
            "Epoch 50/500\n",
            "65/65 [==============================] - 1s 11ms/step - loss: 1.3686 - accuracy: 0.7447\n",
            "Epoch 51/500\n",
            "65/65 [==============================] - 1s 11ms/step - loss: 1.3169 - accuracy: 0.7524\n",
            "Epoch 52/500\n",
            "65/65 [==============================] - 1s 11ms/step - loss: 1.2803 - accuracy: 0.7485\n",
            "Epoch 53/500\n",
            "65/65 [==============================] - 1s 11ms/step - loss: 1.2433 - accuracy: 0.7776\n",
            "Epoch 54/500\n",
            "65/65 [==============================] - 1s 11ms/step - loss: 1.2111 - accuracy: 0.7718\n",
            "Epoch 55/500\n",
            "65/65 [==============================] - 1s 11ms/step - loss: 1.2082 - accuracy: 0.7582\n",
            "Epoch 56/500\n",
            "65/65 [==============================] - 1s 11ms/step - loss: 1.1674 - accuracy: 0.7795\n",
            "Epoch 57/500\n",
            "65/65 [==============================] - 1s 14ms/step - loss: 1.1377 - accuracy: 0.8027\n",
            "Epoch 58/500\n",
            "65/65 [==============================] - 1s 19ms/step - loss: 1.1264 - accuracy: 0.7950\n",
            "Epoch 59/500\n",
            "65/65 [==============================] - 1s 20ms/step - loss: 1.0937 - accuracy: 0.7969\n",
            "Epoch 60/500\n",
            "65/65 [==============================] - 1s 12ms/step - loss: 1.0741 - accuracy: 0.7969\n",
            "Epoch 61/500\n",
            "65/65 [==============================] - 1s 11ms/step - loss: 1.0553 - accuracy: 0.8066\n",
            "Epoch 62/500\n",
            "65/65 [==============================] - 1s 12ms/step - loss: 1.0299 - accuracy: 0.8085\n",
            "Epoch 63/500\n",
            "65/65 [==============================] - 1s 11ms/step - loss: 1.0076 - accuracy: 0.8143\n",
            "Epoch 64/500\n",
            "65/65 [==============================] - 1s 11ms/step - loss: 0.9968 - accuracy: 0.8240\n",
            "Epoch 65/500\n",
            "65/65 [==============================] - 1s 11ms/step - loss: 0.9736 - accuracy: 0.8182\n",
            "Epoch 66/500\n",
            "65/65 [==============================] - 1s 11ms/step - loss: 0.9573 - accuracy: 0.8240\n",
            "Epoch 67/500\n",
            "65/65 [==============================] - 1s 11ms/step - loss: 0.9427 - accuracy: 0.8298\n",
            "Epoch 68/500\n",
            "65/65 [==============================] - 1s 12ms/step - loss: 0.9490 - accuracy: 0.8221\n",
            "Epoch 69/500\n",
            "65/65 [==============================] - 1s 12ms/step - loss: 0.9346 - accuracy: 0.8279\n",
            "Epoch 70/500\n",
            "65/65 [==============================] - 1s 11ms/step - loss: 0.9144 - accuracy: 0.8279\n",
            "Epoch 71/500\n",
            "65/65 [==============================] - 1s 11ms/step - loss: 0.8907 - accuracy: 0.8356\n",
            "Epoch 72/500\n",
            "65/65 [==============================] - 1s 11ms/step - loss: 0.8686 - accuracy: 0.8279\n",
            "Epoch 73/500\n",
            "65/65 [==============================] - 1s 14ms/step - loss: 0.8560 - accuracy: 0.8279\n",
            "Epoch 74/500\n",
            "65/65 [==============================] - 1s 19ms/step - loss: 0.8352 - accuracy: 0.8356\n",
            "Epoch 75/500\n",
            "65/65 [==============================] - 1s 19ms/step - loss: 0.8503 - accuracy: 0.8298\n",
            "Epoch 76/500\n",
            "65/65 [==============================] - 1s 12ms/step - loss: 0.8310 - accuracy: 0.8356\n",
            "Epoch 77/500\n",
            "65/65 [==============================] - 1s 23ms/step - loss: 0.8228 - accuracy: 0.8298\n",
            "Epoch 78/500\n",
            "65/65 [==============================] - 2s 25ms/step - loss: 0.8255 - accuracy: 0.8298\n",
            "Epoch 79/500\n",
            "65/65 [==============================] - 2s 29ms/step - loss: 0.8212 - accuracy: 0.8240\n",
            "Epoch 80/500\n",
            "65/65 [==============================] - 1s 20ms/step - loss: 0.7998 - accuracy: 0.8337\n",
            "Epoch 81/500\n",
            "65/65 [==============================] - 1s 16ms/step - loss: 0.7906 - accuracy: 0.8317\n",
            "Epoch 82/500\n",
            "65/65 [==============================] - 1s 22ms/step - loss: 0.7775 - accuracy: 0.8337\n",
            "Epoch 83/500\n",
            "65/65 [==============================] - 2s 38ms/step - loss: 0.7556 - accuracy: 0.8337\n",
            "Epoch 84/500\n",
            "65/65 [==============================] - 2s 29ms/step - loss: 0.7388 - accuracy: 0.8395\n",
            "Epoch 85/500\n",
            "65/65 [==============================] - 1s 14ms/step - loss: 0.7303 - accuracy: 0.8414\n",
            "Epoch 86/500\n",
            "65/65 [==============================] - 1s 18ms/step - loss: 0.7226 - accuracy: 0.8337\n",
            "Epoch 87/500\n",
            "65/65 [==============================] - 1s 14ms/step - loss: 0.7150 - accuracy: 0.8375\n",
            "Epoch 88/500\n",
            "65/65 [==============================] - 1s 15ms/step - loss: 0.7113 - accuracy: 0.8395\n",
            "Epoch 89/500\n",
            "65/65 [==============================] - 1s 15ms/step - loss: 0.7034 - accuracy: 0.8356\n",
            "Epoch 90/500\n",
            "65/65 [==============================] - 1s 14ms/step - loss: 0.6988 - accuracy: 0.8356\n",
            "Epoch 91/500\n",
            "65/65 [==============================] - 1s 16ms/step - loss: 0.6907 - accuracy: 0.8375\n",
            "Epoch 92/500\n",
            "65/65 [==============================] - 1s 18ms/step - loss: 0.6847 - accuracy: 0.8375\n",
            "Epoch 93/500\n",
            "65/65 [==============================] - 1s 11ms/step - loss: 0.6787 - accuracy: 0.8375\n",
            "Epoch 94/500\n",
            "65/65 [==============================] - 1s 12ms/step - loss: 0.6753 - accuracy: 0.8375\n",
            "Epoch 95/500\n",
            "65/65 [==============================] - 2s 28ms/step - loss: 0.6691 - accuracy: 0.8337\n",
            "Epoch 96/500\n",
            "65/65 [==============================] - 2s 31ms/step - loss: 0.6654 - accuracy: 0.8375\n",
            "Epoch 97/500\n",
            "65/65 [==============================] - 1s 16ms/step - loss: 0.6652 - accuracy: 0.8337\n",
            "Epoch 98/500\n",
            "65/65 [==============================] - 2s 25ms/step - loss: 0.6642 - accuracy: 0.8414\n",
            "Epoch 99/500\n",
            "65/65 [==============================] - 1s 15ms/step - loss: 0.6575 - accuracy: 0.8375\n",
            "Epoch 100/500\n",
            "65/65 [==============================] - 1s 20ms/step - loss: 0.6497 - accuracy: 0.8356\n",
            "Epoch 101/500\n",
            "65/65 [==============================] - 2s 25ms/step - loss: 0.6572 - accuracy: 0.8395\n",
            "Epoch 102/500\n",
            "65/65 [==============================] - 2s 26ms/step - loss: 0.6518 - accuracy: 0.8337\n",
            "Epoch 103/500\n",
            "65/65 [==============================] - 1s 21ms/step - loss: 0.6460 - accuracy: 0.8317\n",
            "Epoch 104/500\n",
            "65/65 [==============================] - 3s 53ms/step - loss: 0.6550 - accuracy: 0.8375\n",
            "Epoch 105/500\n",
            "65/65 [==============================] - 1s 19ms/step - loss: 0.7185 - accuracy: 0.8279\n",
            "Epoch 106/500\n",
            "65/65 [==============================] - 2s 26ms/step - loss: 0.6944 - accuracy: 0.8298\n",
            "Epoch 107/500\n",
            "65/65 [==============================] - 2s 27ms/step - loss: 0.6534 - accuracy: 0.8414\n",
            "Epoch 108/500\n",
            "65/65 [==============================] - 1s 18ms/step - loss: 0.6487 - accuracy: 0.8298\n",
            "Epoch 109/500\n",
            "65/65 [==============================] - 1s 13ms/step - loss: 0.6316 - accuracy: 0.8375\n",
            "Epoch 110/500\n",
            "65/65 [==============================] - 1s 11ms/step - loss: 0.6258 - accuracy: 0.8395\n",
            "Epoch 111/500\n",
            "65/65 [==============================] - 1s 11ms/step - loss: 0.6268 - accuracy: 0.8337\n",
            "Epoch 112/500\n",
            "65/65 [==============================] - 1s 11ms/step - loss: 0.6169 - accuracy: 0.8337\n",
            "Epoch 113/500\n",
            "65/65 [==============================] - 2s 28ms/step - loss: 0.6128 - accuracy: 0.8356\n",
            "Epoch 114/500\n",
            "65/65 [==============================] - 2s 28ms/step - loss: 0.6061 - accuracy: 0.8356\n",
            "Epoch 115/500\n",
            "65/65 [==============================] - 1s 19ms/step - loss: 0.6041 - accuracy: 0.8317\n",
            "Epoch 116/500\n",
            "65/65 [==============================] - 1s 14ms/step - loss: 0.5980 - accuracy: 0.8453\n",
            "Epoch 117/500\n",
            "65/65 [==============================] - 1s 14ms/step - loss: 0.5956 - accuracy: 0.8337\n",
            "Epoch 118/500\n",
            "65/65 [==============================] - 1s 13ms/step - loss: 0.5946 - accuracy: 0.8414\n",
            "Epoch 119/500\n",
            "65/65 [==============================] - 1s 14ms/step - loss: 0.5920 - accuracy: 0.8337\n",
            "Epoch 120/500\n",
            "65/65 [==============================] - 2s 27ms/step - loss: 0.5904 - accuracy: 0.8414\n",
            "Epoch 121/500\n",
            "65/65 [==============================] - 2s 29ms/step - loss: 0.5912 - accuracy: 0.8395\n",
            "Epoch 122/500\n",
            "65/65 [==============================] - 2s 23ms/step - loss: 0.5896 - accuracy: 0.8356\n",
            "Epoch 123/500\n",
            "65/65 [==============================] - 1s 11ms/step - loss: 0.5859 - accuracy: 0.8337\n",
            "Epoch 124/500\n",
            "65/65 [==============================] - 1s 19ms/step - loss: 0.5838 - accuracy: 0.8414\n",
            "Epoch 125/500\n",
            "65/65 [==============================] - 2s 25ms/step - loss: 0.5864 - accuracy: 0.8298\n",
            "Epoch 126/500\n",
            "65/65 [==============================] - 2s 27ms/step - loss: 0.5911 - accuracy: 0.8395\n",
            "Epoch 127/500\n",
            "65/65 [==============================] - 1s 23ms/step - loss: 0.5840 - accuracy: 0.8433\n",
            "Epoch 128/500\n",
            "65/65 [==============================] - 1s 22ms/step - loss: 0.5822 - accuracy: 0.8453\n",
            "Epoch 129/500\n",
            "65/65 [==============================] - 1s 16ms/step - loss: 0.5802 - accuracy: 0.8375\n",
            "Epoch 130/500\n",
            "65/65 [==============================] - 1s 11ms/step - loss: 0.5808 - accuracy: 0.8375\n",
            "Epoch 131/500\n",
            "65/65 [==============================] - 1s 11ms/step - loss: 0.5793 - accuracy: 0.8433\n",
            "Epoch 132/500\n",
            "65/65 [==============================] - 1s 11ms/step - loss: 0.5782 - accuracy: 0.8395\n",
            "Epoch 133/500\n",
            "65/65 [==============================] - 1s 12ms/step - loss: 0.5772 - accuracy: 0.8395\n",
            "Epoch 134/500\n",
            "65/65 [==============================] - 1s 11ms/step - loss: 0.6189 - accuracy: 0.8317\n",
            "Epoch 135/500\n",
            "65/65 [==============================] - 1s 11ms/step - loss: 0.6261 - accuracy: 0.8317\n",
            "Epoch 136/500\n",
            "65/65 [==============================] - 1s 15ms/step - loss: 0.5983 - accuracy: 0.8375\n",
            "Epoch 137/500\n",
            "65/65 [==============================] - 1s 19ms/step - loss: 0.5928 - accuracy: 0.8356\n",
            "Epoch 138/500\n",
            "65/65 [==============================] - 1s 20ms/step - loss: 0.5933 - accuracy: 0.8317\n",
            "Epoch 139/500\n",
            "65/65 [==============================] - 1s 11ms/step - loss: 0.5758 - accuracy: 0.8433\n",
            "Epoch 140/500\n",
            "65/65 [==============================] - 1s 11ms/step - loss: 0.5689 - accuracy: 0.8433\n",
            "Epoch 141/500\n",
            "65/65 [==============================] - 1s 11ms/step - loss: 0.5634 - accuracy: 0.8375\n",
            "Epoch 142/500\n",
            "65/65 [==============================] - 1s 11ms/step - loss: 0.5611 - accuracy: 0.8395\n",
            "Epoch 143/500\n",
            "65/65 [==============================] - 1s 11ms/step - loss: 0.5608 - accuracy: 0.8395\n",
            "Epoch 144/500\n",
            "65/65 [==============================] - 1s 11ms/step - loss: 0.5621 - accuracy: 0.8472\n",
            "Epoch 145/500\n",
            "65/65 [==============================] - 1s 11ms/step - loss: 0.5617 - accuracy: 0.8395\n",
            "Epoch 146/500\n",
            "65/65 [==============================] - 1s 12ms/step - loss: 0.5587 - accuracy: 0.8433\n",
            "Epoch 147/500\n",
            "65/65 [==============================] - 1s 11ms/step - loss: 0.5591 - accuracy: 0.8395\n",
            "Epoch 148/500\n",
            "65/65 [==============================] - 1s 12ms/step - loss: 0.5590 - accuracy: 0.8356\n",
            "Epoch 149/500\n",
            "65/65 [==============================] - 1s 11ms/step - loss: 0.5540 - accuracy: 0.8453\n",
            "Epoch 150/500\n",
            "65/65 [==============================] - 1s 11ms/step - loss: 0.5553 - accuracy: 0.8375\n",
            "Epoch 151/500\n",
            "65/65 [==============================] - 1s 11ms/step - loss: 0.5552 - accuracy: 0.8433\n",
            "Epoch 152/500\n",
            "65/65 [==============================] - 1s 15ms/step - loss: 0.5534 - accuracy: 0.8395\n",
            "Epoch 153/500\n",
            "65/65 [==============================] - 1s 20ms/step - loss: 0.5534 - accuracy: 0.8337\n",
            "Epoch 154/500\n",
            "65/65 [==============================] - 1s 19ms/step - loss: 0.5516 - accuracy: 0.8395\n",
            "Epoch 155/500\n",
            "65/65 [==============================] - 1s 13ms/step - loss: 0.5498 - accuracy: 0.8414\n",
            "Epoch 156/500\n",
            "65/65 [==============================] - 1s 12ms/step - loss: 0.5509 - accuracy: 0.8356\n",
            "Epoch 157/500\n",
            "65/65 [==============================] - 1s 12ms/step - loss: 0.5501 - accuracy: 0.8395\n",
            "Epoch 158/500\n",
            "65/65 [==============================] - 1s 12ms/step - loss: 0.5489 - accuracy: 0.8395\n",
            "Epoch 159/500\n",
            "65/65 [==============================] - 1s 11ms/step - loss: 0.5496 - accuracy: 0.8433\n",
            "Epoch 160/500\n",
            "65/65 [==============================] - 1s 11ms/step - loss: 0.5498 - accuracy: 0.8395\n",
            "Epoch 161/500\n",
            "65/65 [==============================] - 1s 11ms/step - loss: 0.5499 - accuracy: 0.8375\n",
            "Epoch 162/500\n",
            "65/65 [==============================] - 1s 11ms/step - loss: 0.5503 - accuracy: 0.8395\n",
            "Epoch 163/500\n",
            "65/65 [==============================] - 1s 11ms/step - loss: 0.6088 - accuracy: 0.8240\n",
            "Epoch 164/500\n",
            "65/65 [==============================] - 1s 11ms/step - loss: 0.7297 - accuracy: 0.7969\n",
            "Epoch 165/500\n",
            "65/65 [==============================] - 1s 11ms/step - loss: 0.6689 - accuracy: 0.8104\n",
            "Epoch 166/500\n",
            "65/65 [==============================] - 1s 11ms/step - loss: 0.5920 - accuracy: 0.8317\n",
            "Epoch 167/500\n",
            "65/65 [==============================] - 1s 11ms/step - loss: 0.5613 - accuracy: 0.8395\n",
            "Epoch 168/500\n",
            "65/65 [==============================] - 1s 15ms/step - loss: 0.5518 - accuracy: 0.8433\n",
            "Epoch 169/500\n",
            "65/65 [==============================] - 1s 19ms/step - loss: 0.5496 - accuracy: 0.8472\n",
            "Epoch 170/500\n",
            "65/65 [==============================] - 1s 19ms/step - loss: 0.5482 - accuracy: 0.8375\n",
            "Epoch 171/500\n",
            "65/65 [==============================] - 1s 13ms/step - loss: 0.5459 - accuracy: 0.8433\n",
            "Epoch 172/500\n",
            "65/65 [==============================] - 1s 12ms/step - loss: 0.5457 - accuracy: 0.8433\n",
            "Epoch 173/500\n",
            "65/65 [==============================] - 1s 12ms/step - loss: 0.5452 - accuracy: 0.8433\n",
            "Epoch 174/500\n",
            "65/65 [==============================] - 1s 12ms/step - loss: 0.5457 - accuracy: 0.8356\n",
            "Epoch 175/500\n",
            "65/65 [==============================] - 1s 11ms/step - loss: 0.5448 - accuracy: 0.8337\n",
            "Epoch 176/500\n",
            "65/65 [==============================] - 1s 12ms/step - loss: 0.5428 - accuracy: 0.8395\n",
            "Epoch 177/500\n",
            "65/65 [==============================] - 1s 11ms/step - loss: 0.5463 - accuracy: 0.8356\n",
            "Epoch 178/500\n",
            "65/65 [==============================] - 1s 12ms/step - loss: 0.5472 - accuracy: 0.8433\n",
            "Epoch 179/500\n",
            "65/65 [==============================] - 1s 14ms/step - loss: 0.5439 - accuracy: 0.8433\n",
            "Epoch 180/500\n",
            "65/65 [==============================] - 1s 14ms/step - loss: 0.5417 - accuracy: 0.8395\n",
            "Epoch 181/500\n",
            "65/65 [==============================] - 1s 11ms/step - loss: 0.5408 - accuracy: 0.8375\n",
            "Epoch 182/500\n",
            "65/65 [==============================] - 1s 12ms/step - loss: 0.5394 - accuracy: 0.8414\n",
            "Epoch 183/500\n",
            "65/65 [==============================] - 1s 12ms/step - loss: 0.5387 - accuracy: 0.8472\n",
            "Epoch 184/500\n",
            "65/65 [==============================] - 1s 20ms/step - loss: 0.5395 - accuracy: 0.8433\n",
            "Epoch 185/500\n",
            "65/65 [==============================] - 1s 20ms/step - loss: 0.5394 - accuracy: 0.8433\n",
            "Epoch 186/500\n",
            "65/65 [==============================] - 1s 14ms/step - loss: 0.5386 - accuracy: 0.8414\n",
            "Epoch 187/500\n",
            "65/65 [==============================] - 1s 12ms/step - loss: 0.5389 - accuracy: 0.8395\n",
            "Epoch 188/500\n",
            "65/65 [==============================] - 1s 12ms/step - loss: 0.5376 - accuracy: 0.8375\n",
            "Epoch 189/500\n",
            "65/65 [==============================] - 1s 12ms/step - loss: 0.5377 - accuracy: 0.8395\n",
            "Epoch 190/500\n",
            "65/65 [==============================] - 1s 12ms/step - loss: 0.5378 - accuracy: 0.8395\n",
            "Epoch 191/500\n",
            "65/65 [==============================] - 1s 12ms/step - loss: 0.5403 - accuracy: 0.8453\n",
            "Epoch 192/500\n",
            "65/65 [==============================] - 1s 11ms/step - loss: 0.5386 - accuracy: 0.8433\n",
            "Epoch 193/500\n",
            "65/65 [==============================] - 1s 11ms/step - loss: 0.5383 - accuracy: 0.8414\n",
            "Epoch 194/500\n",
            "65/65 [==============================] - 1s 11ms/step - loss: 0.5380 - accuracy: 0.8414\n",
            "Epoch 195/500\n",
            "65/65 [==============================] - 1s 12ms/step - loss: 0.5378 - accuracy: 0.8414\n",
            "Epoch 196/500\n",
            "65/65 [==============================] - 1s 12ms/step - loss: 0.5366 - accuracy: 0.8433\n",
            "Epoch 197/500\n",
            "65/65 [==============================] - 1s 12ms/step - loss: 0.5346 - accuracy: 0.8414\n",
            "Epoch 198/500\n",
            "65/65 [==============================] - 1s 12ms/step - loss: 0.5365 - accuracy: 0.8375\n",
            "Epoch 199/500\n",
            "65/65 [==============================] - 1s 16ms/step - loss: 0.5334 - accuracy: 0.8375\n",
            "Epoch 200/500\n",
            "65/65 [==============================] - 1s 19ms/step - loss: 0.5357 - accuracy: 0.8356\n",
            "Epoch 201/500\n",
            "65/65 [==============================] - 1s 19ms/step - loss: 0.5343 - accuracy: 0.8433\n",
            "Epoch 202/500\n",
            "65/65 [==============================] - 1s 12ms/step - loss: 0.5354 - accuracy: 0.8356\n",
            "Epoch 203/500\n",
            "65/65 [==============================] - 1s 12ms/step - loss: 0.5355 - accuracy: 0.8414\n",
            "Epoch 204/500\n",
            "65/65 [==============================] - 1s 11ms/step - loss: 0.5348 - accuracy: 0.8395\n",
            "Epoch 205/500\n",
            "65/65 [==============================] - 1s 11ms/step - loss: 0.5332 - accuracy: 0.8356\n",
            "Epoch 206/500\n",
            "65/65 [==============================] - 1s 12ms/step - loss: 0.5343 - accuracy: 0.8356\n",
            "Epoch 207/500\n",
            "65/65 [==============================] - 1s 12ms/step - loss: 0.5345 - accuracy: 0.8375\n",
            "Epoch 208/500\n",
            "65/65 [==============================] - 1s 11ms/step - loss: 0.5363 - accuracy: 0.8414\n",
            "Epoch 209/500\n",
            "65/65 [==============================] - 1s 11ms/step - loss: 0.5379 - accuracy: 0.8375\n",
            "Epoch 210/500\n",
            "65/65 [==============================] - 1s 12ms/step - loss: 0.5339 - accuracy: 0.8395\n",
            "Epoch 211/500\n",
            "65/65 [==============================] - 1s 12ms/step - loss: 0.5362 - accuracy: 0.8395\n",
            "Epoch 212/500\n",
            "65/65 [==============================] - 1s 12ms/step - loss: 0.5341 - accuracy: 0.8414\n",
            "Epoch 213/500\n",
            "65/65 [==============================] - 1s 12ms/step - loss: 0.5395 - accuracy: 0.8375\n",
            "Epoch 214/500\n",
            "65/65 [==============================] - 1s 12ms/step - loss: 0.5520 - accuracy: 0.8395\n",
            "Epoch 215/500\n",
            "65/65 [==============================] - 1s 20ms/step - loss: 0.5459 - accuracy: 0.8453\n",
            "Epoch 216/500\n",
            "65/65 [==============================] - 1s 23ms/step - loss: 0.5486 - accuracy: 0.8375\n",
            "Epoch 217/500\n",
            "65/65 [==============================] - 2s 26ms/step - loss: 0.5372 - accuracy: 0.8433\n",
            "Epoch 218/500\n",
            "65/65 [==============================] - 1s 12ms/step - loss: 0.5353 - accuracy: 0.8395\n",
            "Epoch 219/500\n",
            "65/65 [==============================] - 1s 12ms/step - loss: 0.5317 - accuracy: 0.8414\n",
            "Epoch 220/500\n",
            "65/65 [==============================] - 1s 12ms/step - loss: 0.5316 - accuracy: 0.8414\n",
            "Epoch 221/500\n",
            "65/65 [==============================] - 1s 19ms/step - loss: 0.5318 - accuracy: 0.8375\n",
            "Epoch 222/500\n",
            "65/65 [==============================] - 1s 20ms/step - loss: 0.5333 - accuracy: 0.8433\n",
            "Epoch 223/500\n",
            "65/65 [==============================] - 1s 16ms/step - loss: 0.5300 - accuracy: 0.8433\n",
            "Epoch 224/500\n",
            "65/65 [==============================] - 1s 12ms/step - loss: 0.5317 - accuracy: 0.8414\n",
            "Epoch 225/500\n",
            "65/65 [==============================] - 1s 12ms/step - loss: 0.5300 - accuracy: 0.8375\n",
            "Epoch 226/500\n",
            "65/65 [==============================] - 1s 12ms/step - loss: 0.5300 - accuracy: 0.8317\n",
            "Epoch 227/500\n",
            "65/65 [==============================] - 1s 11ms/step - loss: 0.5316 - accuracy: 0.8337\n",
            "Epoch 228/500\n",
            "65/65 [==============================] - 1s 19ms/step - loss: 0.5320 - accuracy: 0.8395\n",
            "Epoch 229/500\n",
            "65/65 [==============================] - 1s 19ms/step - loss: 0.5299 - accuracy: 0.8453\n",
            "Epoch 230/500\n",
            "65/65 [==============================] - 1s 16ms/step - loss: 0.5306 - accuracy: 0.8356\n",
            "Epoch 231/500\n",
            "65/65 [==============================] - 1s 12ms/step - loss: 0.5296 - accuracy: 0.8414\n",
            "Epoch 232/500\n",
            "65/65 [==============================] - 1s 12ms/step - loss: 0.5281 - accuracy: 0.8472\n",
            "Epoch 233/500\n",
            "65/65 [==============================] - 1s 11ms/step - loss: 0.5296 - accuracy: 0.8414\n",
            "Epoch 234/500\n",
            "65/65 [==============================] - 1s 11ms/step - loss: 0.5293 - accuracy: 0.8433\n",
            "Epoch 235/500\n",
            "65/65 [==============================] - 1s 12ms/step - loss: 0.5288 - accuracy: 0.8375\n",
            "Epoch 236/500\n",
            "65/65 [==============================] - 1s 12ms/step - loss: 0.5289 - accuracy: 0.8433\n",
            "Epoch 237/500\n",
            "65/65 [==============================] - 1s 12ms/step - loss: 0.5295 - accuracy: 0.8433\n",
            "Epoch 238/500\n",
            "65/65 [==============================] - 1s 12ms/step - loss: 0.5300 - accuracy: 0.8356\n",
            "Epoch 239/500\n",
            "65/65 [==============================] - 1s 12ms/step - loss: 0.5270 - accuracy: 0.8472\n",
            "Epoch 240/500\n",
            "65/65 [==============================] - 1s 12ms/step - loss: 0.5277 - accuracy: 0.8414\n",
            "Epoch 241/500\n",
            "65/65 [==============================] - 1s 12ms/step - loss: 0.5306 - accuracy: 0.8395\n",
            "Epoch 242/500\n",
            "65/65 [==============================] - 1s 12ms/step - loss: 0.5390 - accuracy: 0.8375\n",
            "Epoch 243/500\n",
            "65/65 [==============================] - 1s 15ms/step - loss: 0.5342 - accuracy: 0.8375\n",
            "Epoch 244/500\n",
            "65/65 [==============================] - 1s 20ms/step - loss: 0.5320 - accuracy: 0.8356\n",
            "Epoch 245/500\n",
            "65/65 [==============================] - 1s 20ms/step - loss: 0.5328 - accuracy: 0.8395\n",
            "Epoch 246/500\n",
            "65/65 [==============================] - 1s 12ms/step - loss: 0.5723 - accuracy: 0.8337\n",
            "Epoch 247/500\n",
            "65/65 [==============================] - 1s 11ms/step - loss: 0.5738 - accuracy: 0.8279\n",
            "Epoch 248/500\n",
            "65/65 [==============================] - 1s 12ms/step - loss: 0.5638 - accuracy: 0.8317\n",
            "Epoch 249/500\n",
            "65/65 [==============================] - 1s 12ms/step - loss: 0.5816 - accuracy: 0.8221\n",
            "Epoch 250/500\n",
            "65/65 [==============================] - 1s 11ms/step - loss: 0.6062 - accuracy: 0.8221\n",
            "Epoch 251/500\n",
            "65/65 [==============================] - 1s 11ms/step - loss: 0.5735 - accuracy: 0.8317\n",
            "Epoch 252/500\n",
            "65/65 [==============================] - 1s 12ms/step - loss: 0.5603 - accuracy: 0.8395\n",
            "Epoch 253/500\n",
            "65/65 [==============================] - 1s 11ms/step - loss: 0.5391 - accuracy: 0.8414\n",
            "Epoch 254/500\n",
            "65/65 [==============================] - 1s 12ms/step - loss: 0.5318 - accuracy: 0.8414\n",
            "Epoch 255/500\n",
            "65/65 [==============================] - 1s 11ms/step - loss: 0.5296 - accuracy: 0.8414\n",
            "Epoch 256/500\n",
            "65/65 [==============================] - 1s 11ms/step - loss: 0.5295 - accuracy: 0.8337\n",
            "Epoch 257/500\n",
            "65/65 [==============================] - 1s 12ms/step - loss: 0.5308 - accuracy: 0.8375\n",
            "Epoch 258/500\n",
            "65/65 [==============================] - 1s 12ms/step - loss: 0.5274 - accuracy: 0.8433\n",
            "Epoch 259/500\n",
            "65/65 [==============================] - 1s 20ms/step - loss: 0.5280 - accuracy: 0.8433\n",
            "Epoch 260/500\n",
            "65/65 [==============================] - 1s 19ms/step - loss: 0.5270 - accuracy: 0.8375\n",
            "Epoch 261/500\n",
            "65/65 [==============================] - 1s 17ms/step - loss: 0.5270 - accuracy: 0.8375\n",
            "Epoch 262/500\n",
            "65/65 [==============================] - 1s 11ms/step - loss: 0.5284 - accuracy: 0.8375\n",
            "Epoch 263/500\n",
            "65/65 [==============================] - 1s 12ms/step - loss: 0.5261 - accuracy: 0.8337\n",
            "Epoch 264/500\n",
            "65/65 [==============================] - 1s 12ms/step - loss: 0.5275 - accuracy: 0.8433\n",
            "Epoch 265/500\n",
            "65/65 [==============================] - 1s 11ms/step - loss: 0.5278 - accuracy: 0.8414\n",
            "Epoch 266/500\n",
            "65/65 [==============================] - 1s 11ms/step - loss: 0.5289 - accuracy: 0.8337\n",
            "Epoch 267/500\n",
            "65/65 [==============================] - 1s 11ms/step - loss: 0.5259 - accuracy: 0.8395\n",
            "Epoch 268/500\n",
            "65/65 [==============================] - 1s 12ms/step - loss: 0.5264 - accuracy: 0.8356\n",
            "Epoch 269/500\n",
            "65/65 [==============================] - 1s 12ms/step - loss: 0.5256 - accuracy: 0.8414\n",
            "Epoch 270/500\n",
            "65/65 [==============================] - 1s 12ms/step - loss: 0.5265 - accuracy: 0.8356\n",
            "Epoch 271/500\n",
            "65/65 [==============================] - 1s 12ms/step - loss: 0.5260 - accuracy: 0.8453\n",
            "Epoch 272/500\n",
            "65/65 [==============================] - 1s 11ms/step - loss: 0.5271 - accuracy: 0.8375\n",
            "Epoch 273/500\n",
            "65/65 [==============================] - 1s 12ms/step - loss: 0.5240 - accuracy: 0.8375\n",
            "Epoch 274/500\n",
            "65/65 [==============================] - 1s 13ms/step - loss: 0.5256 - accuracy: 0.8453\n",
            "Epoch 275/500\n",
            "65/65 [==============================] - 1s 20ms/step - loss: 0.5260 - accuracy: 0.8375\n",
            "Epoch 276/500\n",
            "65/65 [==============================] - 1s 20ms/step - loss: 0.5254 - accuracy: 0.8337\n",
            "Epoch 277/500\n",
            "65/65 [==============================] - 1s 15ms/step - loss: 0.5261 - accuracy: 0.8414\n",
            "Epoch 278/500\n",
            "65/65 [==============================] - 1s 12ms/step - loss: 0.5261 - accuracy: 0.8375\n",
            "Epoch 279/500\n",
            "65/65 [==============================] - 1s 11ms/step - loss: 0.5265 - accuracy: 0.8375\n",
            "Epoch 280/500\n",
            "65/65 [==============================] - 1s 11ms/step - loss: 0.5263 - accuracy: 0.8356\n",
            "Epoch 281/500\n",
            "65/65 [==============================] - 1s 11ms/step - loss: 0.5270 - accuracy: 0.8414\n",
            "Epoch 282/500\n",
            "65/65 [==============================] - 1s 12ms/step - loss: 0.5268 - accuracy: 0.8414\n",
            "Epoch 283/500\n",
            "65/65 [==============================] - 1s 12ms/step - loss: 0.5253 - accuracy: 0.8395\n",
            "Epoch 284/500\n",
            "65/65 [==============================] - 1s 12ms/step - loss: 0.5263 - accuracy: 0.8433\n",
            "Epoch 285/500\n",
            "65/65 [==============================] - 1s 11ms/step - loss: 0.5254 - accuracy: 0.8317\n",
            "Epoch 286/500\n",
            "65/65 [==============================] - 1s 12ms/step - loss: 0.5248 - accuracy: 0.8414\n",
            "Epoch 287/500\n",
            "65/65 [==============================] - 1s 12ms/step - loss: 0.5258 - accuracy: 0.8433\n",
            "Epoch 288/500\n",
            "65/65 [==============================] - 1s 12ms/step - loss: 0.5250 - accuracy: 0.8356\n",
            "Epoch 289/500\n",
            "65/65 [==============================] - 1s 11ms/step - loss: 0.5238 - accuracy: 0.8375\n",
            "Epoch 290/500\n",
            "65/65 [==============================] - 1s 16ms/step - loss: 0.5265 - accuracy: 0.8356\n",
            "Epoch 291/500\n",
            "65/65 [==============================] - 1s 20ms/step - loss: 0.5250 - accuracy: 0.8414\n",
            "Epoch 292/500\n",
            "65/65 [==============================] - 1s 20ms/step - loss: 0.5264 - accuracy: 0.8356\n",
            "Epoch 293/500\n",
            "65/65 [==============================] - 1s 12ms/step - loss: 0.5279 - accuracy: 0.8356\n",
            "Epoch 294/500\n",
            "65/65 [==============================] - 1s 12ms/step - loss: 0.5243 - accuracy: 0.8414\n",
            "Epoch 295/500\n",
            "65/65 [==============================] - 1s 11ms/step - loss: 0.5263 - accuracy: 0.8395\n",
            "Epoch 296/500\n",
            "65/65 [==============================] - 1s 12ms/step - loss: 0.5257 - accuracy: 0.8375\n",
            "Epoch 297/500\n",
            "65/65 [==============================] - 1s 12ms/step - loss: 0.5246 - accuracy: 0.8414\n",
            "Epoch 298/500\n",
            "65/65 [==============================] - 1s 11ms/step - loss: 0.5261 - accuracy: 0.8395\n",
            "Epoch 299/500\n",
            "65/65 [==============================] - 1s 11ms/step - loss: 0.5248 - accuracy: 0.8414\n",
            "Epoch 300/500\n",
            "65/65 [==============================] - 1s 12ms/step - loss: 0.5243 - accuracy: 0.8414\n",
            "Epoch 301/500\n",
            "65/65 [==============================] - 1s 12ms/step - loss: 0.5244 - accuracy: 0.8356\n",
            "Epoch 302/500\n",
            "65/65 [==============================] - 1s 12ms/step - loss: 0.5251 - accuracy: 0.8414\n",
            "Epoch 303/500\n",
            "65/65 [==============================] - 1s 12ms/step - loss: 0.5247 - accuracy: 0.8395\n",
            "Epoch 304/500\n",
            "65/65 [==============================] - 1s 11ms/step - loss: 0.5242 - accuracy: 0.8375\n",
            "Epoch 305/500\n",
            "65/65 [==============================] - 1s 12ms/step - loss: 0.5272 - accuracy: 0.8337\n",
            "Epoch 306/500\n",
            "65/65 [==============================] - 1s 20ms/step - loss: 0.5232 - accuracy: 0.8395\n",
            "Epoch 307/500\n",
            "65/65 [==============================] - 1s 19ms/step - loss: 0.5245 - accuracy: 0.8433\n",
            "Epoch 308/500\n",
            "65/65 [==============================] - 1s 16ms/step - loss: 0.5242 - accuracy: 0.8375\n",
            "Epoch 309/500\n",
            "65/65 [==============================] - 1s 12ms/step - loss: 0.5236 - accuracy: 0.8356\n",
            "Epoch 310/500\n",
            "65/65 [==============================] - 1s 12ms/step - loss: 0.5229 - accuracy: 0.8433\n",
            "Epoch 311/500\n",
            "65/65 [==============================] - 1s 12ms/step - loss: 0.5238 - accuracy: 0.8395\n",
            "Epoch 312/500\n",
            "65/65 [==============================] - 1s 12ms/step - loss: 0.5236 - accuracy: 0.8433\n",
            "Epoch 313/500\n",
            "65/65 [==============================] - 1s 11ms/step - loss: 0.5239 - accuracy: 0.8375\n",
            "Epoch 314/500\n",
            "65/65 [==============================] - 1s 12ms/step - loss: 0.5227 - accuracy: 0.8375\n",
            "Epoch 315/500\n",
            "65/65 [==============================] - 1s 12ms/step - loss: 0.5271 - accuracy: 0.8433\n",
            "Epoch 316/500\n",
            "65/65 [==============================] - 1s 12ms/step - loss: 0.5262 - accuracy: 0.8337\n",
            "Epoch 317/500\n",
            "65/65 [==============================] - 1s 12ms/step - loss: 0.5268 - accuracy: 0.8453\n",
            "Epoch 318/500\n",
            "65/65 [==============================] - 1s 12ms/step - loss: 0.5279 - accuracy: 0.8433\n",
            "Epoch 319/500\n",
            "65/65 [==============================] - 1s 12ms/step - loss: 0.5693 - accuracy: 0.8337\n",
            "Epoch 320/500\n",
            "65/65 [==============================] - 1s 12ms/step - loss: 0.5698 - accuracy: 0.8337\n",
            "Epoch 321/500\n",
            "65/65 [==============================] - 1s 15ms/step - loss: 0.5772 - accuracy: 0.8240\n",
            "Epoch 322/500\n",
            "65/65 [==============================] - 1s 19ms/step - loss: 0.6135 - accuracy: 0.8221\n",
            "Epoch 323/500\n",
            "65/65 [==============================] - 1s 20ms/step - loss: 0.5324 - accuracy: 0.8433\n",
            "Epoch 324/500\n",
            "65/65 [==============================] - 1s 14ms/step - loss: 0.5283 - accuracy: 0.8356\n",
            "Epoch 325/500\n",
            "65/65 [==============================] - 1s 12ms/step - loss: 0.5262 - accuracy: 0.8337\n",
            "Epoch 326/500\n",
            "65/65 [==============================] - 1s 12ms/step - loss: 0.5267 - accuracy: 0.8395\n",
            "Epoch 327/500\n",
            "65/65 [==============================] - 1s 12ms/step - loss: 0.5254 - accuracy: 0.8453\n",
            "Epoch 328/500\n",
            "65/65 [==============================] - 1s 12ms/step - loss: 0.5232 - accuracy: 0.8395\n",
            "Epoch 329/500\n",
            "65/65 [==============================] - 1s 12ms/step - loss: 0.5246 - accuracy: 0.8337\n",
            "Epoch 330/500\n",
            "65/65 [==============================] - 1s 13ms/step - loss: 0.5248 - accuracy: 0.8356\n",
            "Epoch 331/500\n",
            "65/65 [==============================] - 1s 22ms/step - loss: 0.5240 - accuracy: 0.8356\n",
            "Epoch 332/500\n",
            "65/65 [==============================] - 1s 23ms/step - loss: 0.5231 - accuracy: 0.8395\n",
            "Epoch 333/500\n",
            "65/65 [==============================] - 1s 12ms/step - loss: 0.5241 - accuracy: 0.8433\n",
            "Epoch 334/500\n",
            "65/65 [==============================] - 1s 12ms/step - loss: 0.5260 - accuracy: 0.8433\n",
            "Epoch 335/500\n",
            "65/65 [==============================] - 1s 18ms/step - loss: 0.5239 - accuracy: 0.8395\n",
            "Epoch 336/500\n",
            "65/65 [==============================] - 1s 19ms/step - loss: 0.5245 - accuracy: 0.8375\n",
            "Epoch 337/500\n",
            "65/65 [==============================] - 1s 18ms/step - loss: 0.5229 - accuracy: 0.8395\n",
            "Epoch 338/500\n",
            "65/65 [==============================] - 1s 12ms/step - loss: 0.5228 - accuracy: 0.8356\n",
            "Epoch 339/500\n",
            "65/65 [==============================] - 1s 12ms/step - loss: 0.5210 - accuracy: 0.8395\n",
            "Epoch 340/500\n",
            "65/65 [==============================] - 1s 12ms/step - loss: 0.5248 - accuracy: 0.8414\n",
            "Epoch 341/500\n",
            "65/65 [==============================] - 1s 12ms/step - loss: 0.5216 - accuracy: 0.8433\n",
            "Epoch 342/500\n",
            "65/65 [==============================] - 1s 13ms/step - loss: 0.5233 - accuracy: 0.8375\n",
            "Epoch 343/500\n",
            "65/65 [==============================] - 1s 12ms/step - loss: 0.5227 - accuracy: 0.8375\n",
            "Epoch 344/500\n",
            "65/65 [==============================] - 1s 12ms/step - loss: 0.5242 - accuracy: 0.8414\n",
            "Epoch 345/500\n",
            "65/65 [==============================] - 1s 12ms/step - loss: 0.5230 - accuracy: 0.8414\n",
            "Epoch 346/500\n",
            "65/65 [==============================] - 1s 12ms/step - loss: 0.5229 - accuracy: 0.8356\n",
            "Epoch 347/500\n",
            "65/65 [==============================] - 1s 12ms/step - loss: 0.5221 - accuracy: 0.8414\n",
            "Epoch 348/500\n",
            "65/65 [==============================] - 1s 12ms/step - loss: 0.5216 - accuracy: 0.8414\n",
            "Epoch 349/500\n",
            "65/65 [==============================] - 1s 12ms/step - loss: 0.5223 - accuracy: 0.8395\n",
            "Epoch 350/500\n",
            "65/65 [==============================] - 1s 15ms/step - loss: 0.5231 - accuracy: 0.8356\n",
            "Epoch 351/500\n",
            "65/65 [==============================] - 1s 20ms/step - loss: 0.5219 - accuracy: 0.8453\n",
            "Epoch 352/500\n",
            "65/65 [==============================] - 1s 20ms/step - loss: 0.5224 - accuracy: 0.8375\n",
            "Epoch 353/500\n",
            "65/65 [==============================] - 1s 13ms/step - loss: 0.5234 - accuracy: 0.8356\n",
            "Epoch 354/500\n",
            "65/65 [==============================] - 1s 12ms/step - loss: 0.5235 - accuracy: 0.8356\n",
            "Epoch 355/500\n",
            "65/65 [==============================] - 1s 12ms/step - loss: 0.5219 - accuracy: 0.8375\n",
            "Epoch 356/500\n",
            "65/65 [==============================] - 1s 12ms/step - loss: 0.5227 - accuracy: 0.8375\n",
            "Epoch 357/500\n",
            "65/65 [==============================] - 1s 12ms/step - loss: 0.5234 - accuracy: 0.8375\n",
            "Epoch 358/500\n",
            "65/65 [==============================] - 1s 12ms/step - loss: 0.5235 - accuracy: 0.8395\n",
            "Epoch 359/500\n",
            "65/65 [==============================] - 1s 12ms/step - loss: 0.5236 - accuracy: 0.8414\n",
            "Epoch 360/500\n",
            "65/65 [==============================] - 1s 11ms/step - loss: 0.5212 - accuracy: 0.8356\n",
            "Epoch 361/500\n",
            "65/65 [==============================] - 1s 12ms/step - loss: 0.5221 - accuracy: 0.8414\n",
            "Epoch 362/500\n",
            "65/65 [==============================] - 1s 12ms/step - loss: 0.5236 - accuracy: 0.8414\n",
            "Epoch 363/500\n",
            "65/65 [==============================] - 1s 12ms/step - loss: 0.5209 - accuracy: 0.8472\n",
            "Epoch 364/500\n",
            "65/65 [==============================] - 1s 12ms/step - loss: 0.5210 - accuracy: 0.8395\n",
            "Epoch 365/500\n",
            "65/65 [==============================] - 1s 12ms/step - loss: 0.5235 - accuracy: 0.8375\n",
            "Epoch 366/500\n",
            "65/65 [==============================] - 1s 19ms/step - loss: 0.5218 - accuracy: 0.8337\n",
            "Epoch 367/500\n",
            "65/65 [==============================] - 1s 20ms/step - loss: 0.5235 - accuracy: 0.8414\n",
            "Epoch 368/500\n",
            "65/65 [==============================] - 1s 18ms/step - loss: 0.5228 - accuracy: 0.8375\n",
            "Epoch 369/500\n",
            "65/65 [==============================] - 1s 12ms/step - loss: 0.5229 - accuracy: 0.8395\n",
            "Epoch 370/500\n",
            "65/65 [==============================] - 1s 12ms/step - loss: 0.5220 - accuracy: 0.8414\n",
            "Epoch 371/500\n",
            "65/65 [==============================] - 1s 12ms/step - loss: 0.5248 - accuracy: 0.8414\n",
            "Epoch 372/500\n",
            "65/65 [==============================] - 1s 12ms/step - loss: 0.5428 - accuracy: 0.8337\n",
            "Epoch 373/500\n",
            "65/65 [==============================] - 1s 12ms/step - loss: 0.5453 - accuracy: 0.8356\n",
            "Epoch 374/500\n",
            "65/65 [==============================] - 1s 12ms/step - loss: 0.5660 - accuracy: 0.8317\n",
            "Epoch 375/500\n",
            "65/65 [==============================] - 1s 12ms/step - loss: 0.5389 - accuracy: 0.8375\n",
            "Epoch 376/500\n",
            "65/65 [==============================] - 1s 12ms/step - loss: 0.5406 - accuracy: 0.8317\n",
            "Epoch 377/500\n",
            "65/65 [==============================] - 1s 12ms/step - loss: 0.5299 - accuracy: 0.8453\n",
            "Epoch 378/500\n",
            "65/65 [==============================] - 1s 12ms/step - loss: 0.5270 - accuracy: 0.8414\n",
            "Epoch 379/500\n",
            "65/65 [==============================] - 1s 12ms/step - loss: 0.5247 - accuracy: 0.8414\n",
            "Epoch 380/500\n",
            "65/65 [==============================] - 1s 12ms/step - loss: 0.5225 - accuracy: 0.8375\n",
            "Epoch 381/500\n",
            "65/65 [==============================] - 1s 14ms/step - loss: 0.5230 - accuracy: 0.8356\n",
            "Epoch 382/500\n",
            "65/65 [==============================] - 1s 19ms/step - loss: 0.5218 - accuracy: 0.8453\n",
            "Epoch 383/500\n",
            "65/65 [==============================] - 1s 20ms/step - loss: 0.5223 - accuracy: 0.8414\n",
            "Epoch 384/500\n",
            "65/65 [==============================] - 1s 16ms/step - loss: 0.5238 - accuracy: 0.8337\n",
            "Epoch 385/500\n",
            "65/65 [==============================] - 1s 12ms/step - loss: 0.5236 - accuracy: 0.8317\n",
            "Epoch 386/500\n",
            "65/65 [==============================] - 1s 13ms/step - loss: 0.5234 - accuracy: 0.8433\n",
            "Epoch 387/500\n",
            "65/65 [==============================] - 1s 12ms/step - loss: 0.5215 - accuracy: 0.8433\n",
            "Epoch 388/500\n",
            "65/65 [==============================] - 1s 12ms/step - loss: 0.5206 - accuracy: 0.8433\n",
            "Epoch 389/500\n",
            "65/65 [==============================] - 1s 12ms/step - loss: 0.5216 - accuracy: 0.8298\n",
            "Epoch 390/500\n",
            "65/65 [==============================] - 1s 12ms/step - loss: 0.5211 - accuracy: 0.8414\n",
            "Epoch 391/500\n",
            "65/65 [==============================] - 1s 18ms/step - loss: 0.5244 - accuracy: 0.8375\n",
            "Epoch 392/500\n",
            "65/65 [==============================] - 1s 20ms/step - loss: 0.5245 - accuracy: 0.8356\n",
            "Epoch 393/500\n",
            "65/65 [==============================] - 1s 19ms/step - loss: 0.5219 - accuracy: 0.8375\n",
            "Epoch 394/500\n",
            "65/65 [==============================] - 1s 13ms/step - loss: 0.5213 - accuracy: 0.8433\n",
            "Epoch 395/500\n",
            "65/65 [==============================] - 1s 18ms/step - loss: 0.5215 - accuracy: 0.8356\n",
            "Epoch 396/500\n",
            "65/65 [==============================] - 1s 19ms/step - loss: 0.5228 - accuracy: 0.8414\n",
            "Epoch 397/500\n",
            "65/65 [==============================] - 1s 20ms/step - loss: 0.5212 - accuracy: 0.8433\n",
            "Epoch 398/500\n",
            "65/65 [==============================] - 1s 12ms/step - loss: 0.5216 - accuracy: 0.8414\n",
            "Epoch 399/500\n",
            "65/65 [==============================] - 1s 12ms/step - loss: 0.5201 - accuracy: 0.8395\n",
            "Epoch 400/500\n",
            "65/65 [==============================] - 1s 12ms/step - loss: 0.5219 - accuracy: 0.8375\n",
            "Epoch 401/500\n",
            "65/65 [==============================] - 1s 12ms/step - loss: 0.5216 - accuracy: 0.8375\n",
            "Epoch 402/500\n",
            "65/65 [==============================] - 1s 12ms/step - loss: 0.5224 - accuracy: 0.8414\n",
            "Epoch 403/500\n",
            "65/65 [==============================] - 1s 12ms/step - loss: 0.5221 - accuracy: 0.8375\n",
            "Epoch 404/500\n",
            "65/65 [==============================] - 1s 12ms/step - loss: 0.5215 - accuracy: 0.8375\n",
            "Epoch 405/500\n",
            "65/65 [==============================] - 1s 12ms/step - loss: 0.5194 - accuracy: 0.8395\n",
            "Epoch 406/500\n",
            "65/65 [==============================] - 1s 12ms/step - loss: 0.5216 - accuracy: 0.8337\n",
            "Epoch 407/500\n",
            "65/65 [==============================] - 1s 12ms/step - loss: 0.5209 - accuracy: 0.8433\n",
            "Epoch 408/500\n",
            "65/65 [==============================] - 1s 12ms/step - loss: 0.5217 - accuracy: 0.8395\n",
            "Epoch 409/500\n",
            "65/65 [==============================] - 1s 12ms/step - loss: 0.5222 - accuracy: 0.8414\n",
            "Epoch 410/500\n",
            "65/65 [==============================] - 1s 15ms/step - loss: 0.5207 - accuracy: 0.8395\n",
            "Epoch 411/500\n",
            "65/65 [==============================] - 1s 20ms/step - loss: 0.5199 - accuracy: 0.8453\n",
            "Epoch 412/500\n",
            "65/65 [==============================] - 1s 20ms/step - loss: 0.5229 - accuracy: 0.8375\n",
            "Epoch 413/500\n",
            "65/65 [==============================] - 1s 15ms/step - loss: 0.5230 - accuracy: 0.8395\n",
            "Epoch 414/500\n",
            "65/65 [==============================] - 1s 12ms/step - loss: 0.5215 - accuracy: 0.8375\n",
            "Epoch 415/500\n",
            "65/65 [==============================] - 1s 12ms/step - loss: 0.5217 - accuracy: 0.8298\n",
            "Epoch 416/500\n",
            "65/65 [==============================] - 1s 12ms/step - loss: 0.5209 - accuracy: 0.8395\n",
            "Epoch 417/500\n",
            "65/65 [==============================] - 1s 12ms/step - loss: 0.5225 - accuracy: 0.8395\n",
            "Epoch 418/500\n",
            "65/65 [==============================] - 1s 13ms/step - loss: 0.5273 - accuracy: 0.8356\n",
            "Epoch 419/500\n",
            "65/65 [==============================] - 1s 12ms/step - loss: 0.5495 - accuracy: 0.8395\n",
            "Epoch 420/500\n",
            "65/65 [==============================] - 1s 13ms/step - loss: 0.5530 - accuracy: 0.8395\n",
            "Epoch 421/500\n",
            "65/65 [==============================] - 1s 13ms/step - loss: 0.5453 - accuracy: 0.8317\n",
            "Epoch 422/500\n",
            "65/65 [==============================] - 1s 13ms/step - loss: 0.5306 - accuracy: 0.8356\n",
            "Epoch 423/500\n",
            "65/65 [==============================] - 1s 13ms/step - loss: 0.5222 - accuracy: 0.8433\n",
            "Epoch 424/500\n",
            "65/65 [==============================] - 1s 11ms/step - loss: 0.5234 - accuracy: 0.8395\n",
            "Epoch 425/500\n",
            "65/65 [==============================] - 1s 13ms/step - loss: 0.5230 - accuracy: 0.8337\n",
            "Epoch 426/500\n",
            "65/65 [==============================] - 1s 20ms/step - loss: 0.5213 - accuracy: 0.8395\n",
            "Epoch 427/500\n",
            "65/65 [==============================] - 1s 20ms/step - loss: 0.5215 - accuracy: 0.8472\n",
            "Epoch 428/500\n",
            "65/65 [==============================] - 1s 16ms/step - loss: 0.5222 - accuracy: 0.8317\n",
            "Epoch 429/500\n",
            "65/65 [==============================] - 1s 12ms/step - loss: 0.5223 - accuracy: 0.8414\n",
            "Epoch 430/500\n",
            "65/65 [==============================] - 1s 12ms/step - loss: 0.5219 - accuracy: 0.8395\n",
            "Epoch 431/500\n",
            "65/65 [==============================] - 1s 12ms/step - loss: 0.5204 - accuracy: 0.8375\n",
            "Epoch 432/500\n",
            "65/65 [==============================] - 1s 12ms/step - loss: 0.5210 - accuracy: 0.8395\n",
            "Epoch 433/500\n",
            "65/65 [==============================] - 1s 12ms/step - loss: 0.5212 - accuracy: 0.8414\n",
            "Epoch 434/500\n",
            "65/65 [==============================] - 1s 12ms/step - loss: 0.5216 - accuracy: 0.8337\n",
            "Epoch 435/500\n",
            "65/65 [==============================] - 1s 13ms/step - loss: 0.5204 - accuracy: 0.8472\n",
            "Epoch 436/500\n",
            "65/65 [==============================] - 1s 12ms/step - loss: 0.5201 - accuracy: 0.8395\n",
            "Epoch 437/500\n",
            "65/65 [==============================] - 1s 12ms/step - loss: 0.5218 - accuracy: 0.8356\n",
            "Epoch 438/500\n",
            "65/65 [==============================] - 1s 12ms/step - loss: 0.5218 - accuracy: 0.8453\n",
            "Epoch 439/500\n",
            "65/65 [==============================] - 1s 12ms/step - loss: 0.5225 - accuracy: 0.8433\n",
            "Epoch 440/500\n",
            "65/65 [==============================] - 1s 12ms/step - loss: 0.5215 - accuracy: 0.8395\n",
            "Epoch 441/500\n",
            "65/65 [==============================] - 1s 19ms/step - loss: 0.5213 - accuracy: 0.8395\n",
            "Epoch 442/500\n",
            "65/65 [==============================] - 1s 19ms/step - loss: 0.5200 - accuracy: 0.8414\n",
            "Epoch 443/500\n",
            "65/65 [==============================] - 1s 20ms/step - loss: 0.5209 - accuracy: 0.8375\n",
            "Epoch 444/500\n",
            "65/65 [==============================] - 1s 12ms/step - loss: 0.5208 - accuracy: 0.8395\n",
            "Epoch 445/500\n",
            "65/65 [==============================] - 1s 12ms/step - loss: 0.5216 - accuracy: 0.8395\n",
            "Epoch 446/500\n",
            "65/65 [==============================] - 1s 12ms/step - loss: 0.5207 - accuracy: 0.8395\n",
            "Epoch 447/500\n",
            "65/65 [==============================] - 1s 12ms/step - loss: 0.5215 - accuracy: 0.8337\n",
            "Epoch 448/500\n",
            "65/65 [==============================] - 1s 12ms/step - loss: 0.5206 - accuracy: 0.8356\n",
            "Epoch 449/500\n",
            "65/65 [==============================] - 1s 12ms/step - loss: 0.5194 - accuracy: 0.8433\n",
            "Epoch 450/500\n",
            "65/65 [==============================] - 1s 12ms/step - loss: 0.5215 - accuracy: 0.8414\n",
            "Epoch 451/500\n",
            "65/65 [==============================] - 1s 12ms/step - loss: 0.5196 - accuracy: 0.8433\n",
            "Epoch 452/500\n",
            "65/65 [==============================] - 1s 12ms/step - loss: 0.5217 - accuracy: 0.8356\n",
            "Epoch 453/500\n",
            "65/65 [==============================] - 1s 12ms/step - loss: 0.5197 - accuracy: 0.8453\n",
            "Epoch 454/500\n",
            "65/65 [==============================] - 1s 12ms/step - loss: 0.5201 - accuracy: 0.8375\n",
            "Epoch 455/500\n",
            "65/65 [==============================] - 1s 12ms/step - loss: 0.5206 - accuracy: 0.8356\n",
            "Epoch 456/500\n",
            "65/65 [==============================] - 1s 15ms/step - loss: 0.5191 - accuracy: 0.8395\n",
            "Epoch 457/500\n",
            "65/65 [==============================] - 1s 19ms/step - loss: 0.5215 - accuracy: 0.8375\n",
            "Epoch 458/500\n",
            "65/65 [==============================] - 1s 20ms/step - loss: 0.5215 - accuracy: 0.8414\n",
            "Epoch 459/500\n",
            "65/65 [==============================] - 1s 16ms/step - loss: 0.5198 - accuracy: 0.8433\n",
            "Epoch 460/500\n",
            "65/65 [==============================] - 1s 12ms/step - loss: 0.5206 - accuracy: 0.8453\n",
            "Epoch 461/500\n",
            "65/65 [==============================] - 1s 12ms/step - loss: 0.5239 - accuracy: 0.8395\n",
            "Epoch 462/500\n",
            "65/65 [==============================] - 1s 12ms/step - loss: 0.5233 - accuracy: 0.8375\n",
            "Epoch 463/500\n",
            "65/65 [==============================] - 1s 12ms/step - loss: 0.5208 - accuracy: 0.8356\n",
            "Epoch 464/500\n",
            "65/65 [==============================] - 1s 12ms/step - loss: 0.5215 - accuracy: 0.8375\n",
            "Epoch 465/500\n",
            "65/65 [==============================] - 1s 12ms/step - loss: 0.5190 - accuracy: 0.8472\n",
            "Epoch 466/500\n",
            "65/65 [==============================] - 1s 12ms/step - loss: 0.5206 - accuracy: 0.8375\n",
            "Epoch 467/500\n",
            "65/65 [==============================] - 1s 13ms/step - loss: 0.5207 - accuracy: 0.8414\n",
            "Epoch 468/500\n",
            "65/65 [==============================] - 1s 12ms/step - loss: 0.5216 - accuracy: 0.8375\n",
            "Epoch 469/500\n",
            "65/65 [==============================] - 1s 12ms/step - loss: 0.5201 - accuracy: 0.8375\n",
            "Epoch 470/500\n",
            "65/65 [==============================] - 1s 12ms/step - loss: 0.5186 - accuracy: 0.8433\n",
            "Epoch 471/500\n",
            "65/65 [==============================] - 1s 12ms/step - loss: 0.5220 - accuracy: 0.8414\n",
            "Epoch 472/500\n",
            "65/65 [==============================] - 1s 20ms/step - loss: 0.5209 - accuracy: 0.8356\n",
            "Epoch 473/500\n",
            "65/65 [==============================] - 1s 20ms/step - loss: 0.5189 - accuracy: 0.8414\n",
            "Epoch 474/500\n",
            "65/65 [==============================] - 1s 18ms/step - loss: 0.5213 - accuracy: 0.8433\n",
            "Epoch 475/500\n",
            "65/65 [==============================] - 1s 12ms/step - loss: 0.5193 - accuracy: 0.8356\n",
            "Epoch 476/500\n",
            "65/65 [==============================] - 1s 12ms/step - loss: 0.5196 - accuracy: 0.8375\n",
            "Epoch 477/500\n",
            "65/65 [==============================] - 1s 13ms/step - loss: 0.5194 - accuracy: 0.8375\n",
            "Epoch 478/500\n",
            "65/65 [==============================] - 1s 12ms/step - loss: 0.5199 - accuracy: 0.8433\n",
            "Epoch 479/500\n",
            "65/65 [==============================] - 1s 12ms/step - loss: 0.5208 - accuracy: 0.8375\n",
            "Epoch 480/500\n",
            "65/65 [==============================] - 1s 12ms/step - loss: 0.5196 - accuracy: 0.8375\n",
            "Epoch 481/500\n",
            "65/65 [==============================] - 1s 12ms/step - loss: 0.5199 - accuracy: 0.8356\n",
            "Epoch 482/500\n",
            "65/65 [==============================] - 1s 13ms/step - loss: 0.5196 - accuracy: 0.8356\n",
            "Epoch 483/500\n",
            "65/65 [==============================] - 1s 12ms/step - loss: 0.5197 - accuracy: 0.8356\n",
            "Epoch 484/500\n",
            "65/65 [==============================] - 1s 12ms/step - loss: 0.5190 - accuracy: 0.8414\n",
            "Epoch 485/500\n",
            "65/65 [==============================] - 1s 12ms/step - loss: 0.5173 - accuracy: 0.8414\n",
            "Epoch 486/500\n",
            "65/65 [==============================] - 1s 13ms/step - loss: 0.5208 - accuracy: 0.8337\n",
            "Epoch 487/500\n",
            "65/65 [==============================] - 1s 17ms/step - loss: 0.5194 - accuracy: 0.8395\n",
            "Epoch 488/500\n",
            "65/65 [==============================] - 1s 20ms/step - loss: 0.5270 - accuracy: 0.8395\n",
            "Epoch 489/500\n",
            "65/65 [==============================] - 1s 19ms/step - loss: 0.5263 - accuracy: 0.8395\n",
            "Epoch 490/500\n",
            "65/65 [==============================] - 1s 14ms/step - loss: 0.5286 - accuracy: 0.8356\n",
            "Epoch 491/500\n",
            "65/65 [==============================] - 1s 12ms/step - loss: 0.5769 - accuracy: 0.8240\n",
            "Epoch 492/500\n",
            "65/65 [==============================] - 1s 12ms/step - loss: 0.5748 - accuracy: 0.8298\n",
            "Epoch 493/500\n",
            "65/65 [==============================] - 1s 12ms/step - loss: 0.5295 - accuracy: 0.8375\n",
            "Epoch 494/500\n",
            "65/65 [==============================] - 1s 13ms/step - loss: 0.5232 - accuracy: 0.8395\n",
            "Epoch 495/500\n",
            "65/65 [==============================] - 1s 12ms/step - loss: 0.5224 - accuracy: 0.8337\n",
            "Epoch 496/500\n",
            "65/65 [==============================] - 1s 12ms/step - loss: 0.5204 - accuracy: 0.8453\n",
            "Epoch 497/500\n",
            "65/65 [==============================] - 1s 12ms/step - loss: 0.5199 - accuracy: 0.8414\n",
            "Epoch 498/500\n",
            "65/65 [==============================] - 1s 12ms/step - loss: 0.5190 - accuracy: 0.8472\n",
            "Epoch 499/500\n",
            "65/65 [==============================] - 1s 12ms/step - loss: 0.5205 - accuracy: 0.8395\n",
            "Epoch 500/500\n",
            "65/65 [==============================] - 1s 12ms/step - loss: 0.5204 - accuracy: 0.8433\n"
          ]
        }
      ]
    },
    {
      "cell_type": "code",
      "source": [
        "import matplotlib.pyplot as plt\n",
        "\n",
        "# Plot utility\n",
        "def plot_graphs(history, string):\n",
        "  plt.plot(history.history[string])\n",
        "  plt.xlabel(\"Epochs\")\n",
        "  plt.ylabel(string)\n",
        "  plt.show()\n",
        "\n",
        "# Visualize the accuracy\n",
        "plot_graphs(history, 'accuracy')"
      ],
      "metadata": {
        "colab": {
          "base_uri": "https://localhost:8080/",
          "height": 449
        },
        "id": "5Pr3m3IOoUG6",
        "outputId": "4b839a8b-41df-4ddc-843b-bdf391f94511"
      },
      "execution_count": 72,
      "outputs": [
        {
          "output_type": "display_data",
          "data": {
            "text/plain": [
              "<Figure size 640x480 with 1 Axes>"
            ],
            "image/png": "[encoded data removed]"
          },
          "metadata": {}
        }
      ]
    },
    {
      "cell_type": "markdown",
      "source": [
        "# Predict the words for test sentence"
      ],
      "metadata": {
        "id": "9mseYJJWpAdF"
      }
    },
    {
      "cell_type": "code",
      "source": [
        "seed_text = \"Sai went to Dublin\"\n",
        "\n",
        "seed_token = tokenizer.texts_to_sequences([seed_text])[0]\n",
        "padded_seed_token = pad_sequences([seed_token], maxlen=max_seq_len-1, padding=\"pre\")\n",
        "padded_seed_token"
      ],
      "metadata": {
        "colab": {
          "base_uri": "https://localhost:8080/"
        },
        "id": "aYUAwetyotwr",
        "outputId": "efd9e742-7e3e-433b-ee64-6338530d9253"
      },
      "execution_count": 79,
      "outputs": [
        {
          "output_type": "execute_result",
          "data": {
            "text/plain": [
              "array([[  0,   0,   0,   0,   0,   0,   0, 134,  13,  59]], dtype=int32)"
            ]
          },
          "metadata": {},
          "execution_count": 79
        }
      ]
    },
    {
      "cell_type": "code",
      "source": [
        "y_pred = model.predict(padded_seed_token)"
      ],
      "metadata": {
        "colab": {
          "base_uri": "https://localhost:8080/"
        },
        "id": "05fF4unY50dk",
        "outputId": "f3948bb6-a1b0-48b1-cc9e-4d9e3c2ab1f2"
      },
      "execution_count": 81,
      "outputs": [
        {
          "output_type": "stream",
          "name": "stdout",
          "text": [
            "1/1 [==============================] - 0s 34ms/step\n"
          ]
        }
      ]
    },
    {
      "cell_type": "code",
      "source": [
        "np.argmax(y_pred, axis=-1)[0]"
      ],
      "metadata": {
        "colab": {
          "base_uri": "https://localhost:8080/"
        },
        "id": "lVDSbfO97OXV",
        "outputId": "ff8e3ddd-dea2-4f4c-a70c-317b4cac4bfa"
      },
      "execution_count": 87,
      "outputs": [
        {
          "output_type": "execute_result",
          "data": {
            "text/plain": [
              "5"
            ]
          },
          "metadata": {},
          "execution_count": 87
        }
      ]
    },
    {
      "cell_type": "code",
      "source": [
        "tokenizer.index_word.get((np.argmax(y_pred)))"
      ],
      "metadata": {
        "colab": {
          "base_uri": "https://localhost:8080/",
          "height": 35
        },
        "id": "nZMcIvNK6A8H",
        "outputId": "fe4325ef-cdab-49ad-c2d1-9ecc99628218"
      },
      "execution_count": 83,
      "outputs": [
        {
          "output_type": "execute_result",
          "data": {
            "text/plain": [
              "'all'"
            ],
            "application/vnd.google.colaboratory.intrinsic+json": {
              "type": "string"
            }
          },
          "metadata": {},
          "execution_count": 83
        }
      ]
    },
    {
      "cell_type": "code",
      "source": [
        "tokenizer.index_word.get(np.argmax(model.predict(padded_seed_token)))"
      ],
      "metadata": {
        "colab": {
          "base_uri": "https://localhost:8080/",
          "height": 52
        },
        "id": "Qo1r6IkI7rF5",
        "outputId": "102b820e-c3d3-4289-8e11-637abdcbda77"
      },
      "execution_count": 91,
      "outputs": [
        {
          "output_type": "stream",
          "name": "stdout",
          "text": [
            "1/1 [==============================] - 0s 35ms/step\n"
          ]
        },
        {
          "output_type": "execute_result",
          "data": {
            "text/plain": [
              "'all'"
            ],
            "application/vnd.google.colaboratory.intrinsic+json": {
              "type": "string"
            }
          },
          "metadata": {},
          "execution_count": 91
        }
      ]
    },
    {
      "cell_type": "code",
      "source": [
        "num_words = 10\n",
        "seed_text = \"Sai went to Dublin\"\n",
        "\n",
        "for i in range(num_words):\n",
        "  seed_token = tokenizer.texts_to_sequences([seed_text])[0]\n",
        "  padded_seed_token = pad_sequences([seed_token], maxlen=max_seq_len-1, padding=\"pre\")\n",
        "  #padded_seed_token\n",
        "  y_prob = model.predict(padded_seed_token)\n",
        "  Y_pred = tokenizer.index_word.get((np.argmax(y_prob)))\n",
        "\n",
        "  if np.argmax(y_prob) != 0: #0 is  is 0 because that is just the padding.\n",
        "    print(Y_pred)\n",
        "    seed_text += \" \" + Y_pred\n"
      ],
      "metadata": {
        "colab": {
          "base_uri": "https://localhost:8080/"
        },
        "id": "91GZUO3P6cm_",
        "outputId": "f6810417-1da0-46a0-afde-e093693087d7"
      },
      "execution_count": 93,
      "outputs": [
        {
          "output_type": "stream",
          "name": "stdout",
          "text": [
            "1/1 [==============================] - 0s 24ms/step\n",
            "all\n",
            "1/1 [==============================] - 0s 22ms/step\n",
            "around\n",
            "1/1 [==============================] - 0s 21ms/step\n",
            "in\n",
            "1/1 [==============================] - 0s 35ms/step\n",
            "couples\n",
            "1/1 [==============================] - 0s 30ms/step\n",
            "and\n",
            "1/1 [==============================] - 0s 22ms/step\n",
            "groups\n",
            "1/1 [==============================] - 0s 25ms/step\n",
            "groups\n",
            "1/1 [==============================] - 0s 24ms/step\n",
            "relations\n",
            "1/1 [==============================] - 0s 26ms/step\n",
            "old\n",
            "1/1 [==============================] - 0s 24ms/step\n",
            "hall\n"
          ]
        }
      ]
    },
    {
      "cell_type": "code",
      "source": [
        "seed_text"
      ],
      "metadata": {
        "colab": {
          "base_uri": "https://localhost:8080/",
          "height": 35
        },
        "id": "q-3pibH37GS8",
        "outputId": "6013f543-5a33-4e89-9b46-923f0ae25a81"
      },
      "execution_count": 94,
      "outputs": [
        {
          "output_type": "execute_result",
          "data": {
            "text/plain": [
              "'Sai went to Dublin all around in couples and groups groups relations old hall'"
            ],
            "application/vnd.google.colaboratory.intrinsic+json": {
              "type": "string"
            }
          },
          "metadata": {},
          "execution_count": 94
        }
      ]
    },
    {
      "cell_type": "code",
      "source": [],
      "metadata": {
        "id": "xCdPUQ6Y8Cvw"
      },
      "execution_count": null,
      "outputs": []
    }
  ]
}