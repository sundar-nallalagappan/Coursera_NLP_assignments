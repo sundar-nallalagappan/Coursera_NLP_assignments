{
  "nbformat": 4,
  "nbformat_minor": 0,
  "metadata": {
    "colab": {
      "provenance": [],
      "gpuType": "T4",
      "authorship_tag": "ABX9TyNczDdLLM0J8RCryfaGSuqN",
      "include_colab_link": true
    },
    "kernelspec": {
      "name": "python3",
      "display_name": "Python 3"
    },
    "language_info": {
      "name": "python"
    },
    "accelerator": "GPU"
  },
  "cells": [
    {
      "cell_type": "markdown",
      "metadata": {
        "id": "view-in-github",
        "colab_type": "text"
      },
      "source": [
        "<a href=\"https://colab.research.google.com/github/sundar-nallalagappan/Coursera_NLP_assignments/blob/main/IMDB_Stacked_LSTM.ipynb\" target=\"_parent\"><img src=\"https://colab.research.google.com/assets/colab-badge.svg\" alt=\"Open In Colab\"/></a>"
      ]
    },
    {
      "cell_type": "code",
      "execution_count": 2,
      "metadata": {
        "colab": {
          "base_uri": "https://localhost:8080/"
        },
        "id": "02kXG8hJlUnG",
        "outputId": "d3811700-c4dd-485f-d386-556b9c23069d"
      },
      "outputs": [
        {
          "output_type": "stream",
          "name": "stdout",
          "text": [
            "sairam\n"
          ]
        }
      ],
      "source": [
        "print(\"sairam\")"
      ]
    },
    {
      "cell_type": "code",
      "source": [
        "import tensorflow as tf\n",
        "from tensorflow import keras\n",
        "\n",
        "from keras.layers import Dense, Flatten, GlobalAveragePooling1D, LSTM, Bidirectional, Embedding\n",
        "from keras.models import Sequential\n",
        "\n",
        "import matplotlib.pyplot as plt\n",
        "import pandas as pd\n",
        "import numpy as np\n",
        "\n",
        "import tensorflow_datasets as tfds"
      ],
      "metadata": {
        "id": "UydN_-shlZaa"
      },
      "execution_count": 3,
      "outputs": []
    },
    {
      "cell_type": "code",
      "source": [
        "imdb, info = tfds.load(\"imdb_reviews/subwords8k\", with_info=True, as_supervised=True)\n",
        "imdb"
      ],
      "metadata": {
        "colab": {
          "base_uri": "https://localhost:8080/"
        },
        "id": "5_xmpLi3lafz",
        "outputId": "bd3ef80d-550d-416f-8888-691e0493e20b"
      },
      "execution_count": 4,
      "outputs": [
        {
          "output_type": "stream",
          "name": "stderr",
          "text": [
            "WARNING:absl:TFDS datasets with text encoding are deprecated and will be removed in a future version. Instead, you should use the plain text version and tokenize the text using `tensorflow_text` (See: https://www.tensorflow.org/tutorials/tensorflow_text/intro#tfdata_example)\n"
          ]
        },
        {
          "output_type": "execute_result",
          "data": {
            "text/plain": [
              "{'train': <_PrefetchDataset element_spec=(TensorSpec(shape=(None,), dtype=tf.int64, name=None), TensorSpec(shape=(), dtype=tf.int64, name=None))>,\n",
              " 'test': <_PrefetchDataset element_spec=(TensorSpec(shape=(None,), dtype=tf.int64, name=None), TensorSpec(shape=(), dtype=tf.int64, name=None))>,\n",
              " 'unsupervised': <_PrefetchDataset element_spec=(TensorSpec(shape=(None,), dtype=tf.int64, name=None), TensorSpec(shape=(), dtype=tf.int64, name=None))>}"
            ]
          },
          "metadata": {},
          "execution_count": 4
        }
      ]
    },
    {
      "cell_type": "code",
      "source": [
        "tokenizer = info.features['text'].encoder"
      ],
      "metadata": {
        "id": "pDBsU4s4lcDE"
      },
      "execution_count": 5,
      "outputs": []
    },
    {
      "cell_type": "code",
      "source": [
        "BUFFER_SIZE = 10000\n",
        "BATCH_SIZE = 256\n",
        "\n",
        "train, test = imdb['train'], imdb['test']\n",
        "\n",
        "train_dataset = train.shuffle(BUFFER_SIZE)\n",
        "\n",
        "train_dataset = train_dataset.padded_batch(BATCH_SIZE)\n",
        "test_dataset  = test.padded_batch(BATCH_SIZE)\n"
      ],
      "metadata": {
        "id": "jABuhrUqlga0"
      },
      "execution_count": 6,
      "outputs": []
    },
    {
      "cell_type": "code",
      "source": [
        "# Hyperparameters\n",
        "batch_size = 1\n",
        "timesteps = 20\n",
        "features = 16\n",
        "lstm_dim = 8\n",
        "\n",
        "print(f'batch_size: {batch_size}')\n",
        "print(f'timesteps (sequence length): {timesteps}')\n",
        "print(f'features (embedding size): {features}')\n",
        "print(f'lstm output units: {lstm_dim}')"
      ],
      "metadata": {
        "colab": {
          "base_uri": "https://localhost:8080/"
        },
        "id": "6HCmR8Rrl41j",
        "outputId": "d456a31e-bfd3-430c-fd04-39999d74a5e8"
      },
      "execution_count": 7,
      "outputs": [
        {
          "output_type": "stream",
          "name": "stdout",
          "text": [
            "batch_size: 1\n",
            "timesteps (sequence length): 20\n",
            "features (embedding size): 16\n",
            "lstm output units: 8\n"
          ]
        }
      ]
    },
    {
      "cell_type": "code",
      "source": [
        "random_inp = np.random.rand(batch_size, timesteps, features)\n",
        "print(f'shape of input array: {random_inp.shape}')"
      ],
      "metadata": {
        "colab": {
          "base_uri": "https://localhost:8080/"
        },
        "id": "BDukQyrTmMBd",
        "outputId": "c03d32ff-d04b-40d8-a89f-37c457b27265"
      },
      "execution_count": 8,
      "outputs": [
        {
          "output_type": "stream",
          "name": "stdout",
          "text": [
            "shape of input array: (1, 20, 16)\n"
          ]
        }
      ]
    },
    {
      "cell_type": "code",
      "source": [
        "# Define LSTM that returns a single output\n",
        "lstm = tf.keras.layers.LSTM(lstm_dim)\n",
        "result = lstm(random_inp)\n",
        "print(f'shape of lstm output(return_sequences=False): {result.shape}')\n"
      ],
      "metadata": {
        "colab": {
          "base_uri": "https://localhost:8080/"
        },
        "id": "QOeUsVXsmXba",
        "outputId": "d49a6e5f-c725-4559-f4ae-f32374defd1c"
      },
      "execution_count": 9,
      "outputs": [
        {
          "output_type": "stream",
          "name": "stdout",
          "text": [
            "shape of lstm output(return_sequences=False): (1, 8)\n"
          ]
        }
      ]
    },
    {
      "cell_type": "code",
      "source": [
        "# Define LSTM that returns a sequence\n",
        "lstm_rs = tf.keras.layers.LSTM(lstm_dim, return_sequences=True)\n",
        "result = lstm_rs(random_inp)\n",
        "print(f'shape of lstm output(return_sequences=True): {result.shape}')"
      ],
      "metadata": {
        "colab": {
          "base_uri": "https://localhost:8080/"
        },
        "id": "vqnwVEP0miIb",
        "outputId": "71570c9d-9446-469e-9d5a-24d299d5d029"
      },
      "execution_count": 10,
      "outputs": [
        {
          "output_type": "stream",
          "name": "stdout",
          "text": [
            "shape of lstm output(return_sequences=True): (1, 20, 8)\n"
          ]
        }
      ]
    },
    {
      "cell_type": "code",
      "source": [
        "embed_size = 64\n",
        "lstm1=64\n",
        "lstm2=32\n",
        "\n",
        "model = Sequential([\n",
        "    Embedding(tokenizer.vocab_size, embed_size),\n",
        "    Bidirectional(LSTM(lstm1, return_sequences=True)),\n",
        "    Bidirectional(LSTM(lstm2)),\n",
        "    Dense(64, \"relu\"),\n",
        "    Dense(1, \"sigmoid\")\n",
        "])\n",
        "\n",
        "model.summary()\n"
      ],
      "metadata": {
        "colab": {
          "base_uri": "https://localhost:8080/"
        },
        "id": "L05FPzzJmx6f",
        "outputId": "d851cab0-cf43-4e05-c151-048ec39b69aa"
      },
      "execution_count": 11,
      "outputs": [
        {
          "output_type": "stream",
          "name": "stdout",
          "text": [
            "Model: \"sequential\"\n",
            "_________________________________________________________________\n",
            " Layer (type)                Output Shape              Param #   \n",
            "=================================================================\n",
            " embedding (Embedding)       (None, None, 64)          523840    \n",
            "                                                                 \n",
            " bidirectional (Bidirectiona  (None, None, 128)        66048     \n",
            " l)                                                              \n",
            "                                                                 \n",
            " bidirectional_1 (Bidirectio  (None, 64)               41216     \n",
            " nal)                                                            \n",
            "                                                                 \n",
            " dense (Dense)               (None, 64)                4160      \n",
            "                                                                 \n",
            " dense_1 (Dense)             (None, 1)                 65        \n",
            "                                                                 \n",
            "=================================================================\n",
            "Total params: 635,329\n",
            "Trainable params: 635,329\n",
            "Non-trainable params: 0\n",
            "_________________________________________________________________\n"
          ]
        }
      ]
    },
    {
      "cell_type": "code",
      "source": [
        "model.compile(loss=\"binary_crossentropy\", metrics=[\"accuracy\"], optimizer=\"adam\")\n",
        "\n",
        "history = model.fit(train_dataset, validation_data=test_dataset, epochs=10, batch_size=128)"
      ],
      "metadata": {
        "colab": {
          "base_uri": "https://localhost:8080/"
        },
        "id": "yz1FvOwkoXSa",
        "outputId": "f877b631-a24b-4418-c939-db303866aedb"
      },
      "execution_count": 13,
      "outputs": [
        {
          "output_type": "stream",
          "name": "stdout",
          "text": [
            "Epoch 1/10\n",
            "98/98 [==============================] - 69s 582ms/step - loss: 0.6529 - accuracy: 0.6061 - val_loss: 0.5149 - val_accuracy: 0.7668\n",
            "Epoch 2/10\n",
            "98/98 [==============================] - 51s 522ms/step - loss: 0.4302 - accuracy: 0.8118 - val_loss: 0.4396 - val_accuracy: 0.8020\n",
            "Epoch 3/10\n",
            "98/98 [==============================] - 46s 465ms/step - loss: 0.3489 - accuracy: 0.8578 - val_loss: 0.4178 - val_accuracy: 0.8135\n",
            "Epoch 4/10\n",
            "98/98 [==============================] - 45s 455ms/step - loss: 0.2672 - accuracy: 0.8981 - val_loss: 0.4756 - val_accuracy: 0.7767\n",
            "Epoch 5/10\n",
            "98/98 [==============================] - 43s 440ms/step - loss: 0.2345 - accuracy: 0.9136 - val_loss: 0.3877 - val_accuracy: 0.8463\n",
            "Epoch 6/10\n",
            "98/98 [==============================] - 41s 416ms/step - loss: 0.2390 - accuracy: 0.9126 - val_loss: 0.4596 - val_accuracy: 0.8226\n",
            "Epoch 7/10\n",
            "98/98 [==============================] - 40s 408ms/step - loss: 0.1771 - accuracy: 0.9358 - val_loss: 0.5061 - val_accuracy: 0.8267\n",
            "Epoch 8/10\n",
            "98/98 [==============================] - 41s 415ms/step - loss: 0.1519 - accuracy: 0.9475 - val_loss: 0.4908 - val_accuracy: 0.8090\n",
            "Epoch 9/10\n",
            "98/98 [==============================] - 40s 405ms/step - loss: 0.1170 - accuracy: 0.9614 - val_loss: 0.5209 - val_accuracy: 0.8394\n",
            "Epoch 10/10\n",
            "98/98 [==============================] - 39s 397ms/step - loss: 0.1040 - accuracy: 0.9679 - val_loss: 0.5937 - val_accuracy: 0.8050\n"
          ]
        }
      ]
    },
    {
      "cell_type": "code",
      "source": [
        "history.history.keys()"
      ],
      "metadata": {
        "colab": {
          "base_uri": "https://localhost:8080/"
        },
        "id": "wNq-m_tmonM2",
        "outputId": "4d4be6fe-5d5c-4b2e-c29e-399ba5dfdd98"
      },
      "execution_count": 16,
      "outputs": [
        {
          "output_type": "execute_result",
          "data": {
            "text/plain": [
              "dict_keys(['loss', 'accuracy', 'val_loss', 'val_accuracy'])"
            ]
          },
          "metadata": {},
          "execution_count": 16
        }
      ]
    },
    {
      "cell_type": "code",
      "source": [
        "acc = history.history['accuracy']\n",
        "loss = history.history['loss']\n",
        "\n",
        "val_acc = history.history[\"val_accuracy\"]\n",
        "val_loss = history.history[\"val_loss\"]\n",
        "\n",
        "plt.plot(range(10), acc)\n",
        "plt.plot(range(10), val_acc)\n",
        "plt.title(\"Acc vs Val accuracy\")\n",
        "plt.show()\n",
        "\n",
        "plt.plot(range(10), loss)\n",
        "plt.plot(range(10), val_loss)\n",
        "plt.title(\"Acc vs Val loss\")\n",
        "plt.show()"
      ],
      "metadata": {
        "colab": {
          "base_uri": "https://localhost:8080/",
          "height": 887
        },
        "id": "e-SFcA9Ios1C",
        "outputId": "3cf3d567-604e-4dca-8450-cb56b8d26f9e"
      },
      "execution_count": 18,
      "outputs": [
        {
          "output_type": "display_data",
          "data": {
            "text/plain": [
              "<Figure size 640x480 with 1 Axes>"
            ],
            "image/png": "[encoded data removed]"
          },
          "metadata": {}
        },
        {
          "output_type": "display_data",
          "data": {
            "text/plain": [
              "<Figure size 640x480 with 1 Axes>"
            ],
            "image/png": "[encoded data removed]"
          },
          "metadata": {}
        }
      ]
    },
    {
      "cell_type": "code",
      "source": [],
      "metadata": {
        "id": "FPgE-i_Ctp85"
      },
      "execution_count": null,
      "outputs": []
    }
  ]
}