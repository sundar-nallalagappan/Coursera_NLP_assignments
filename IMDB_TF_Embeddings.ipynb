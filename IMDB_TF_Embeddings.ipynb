{
  "nbformat": 4,
  "nbformat_minor": 0,
  "metadata": {
    "colab": {
      "provenance": [],
      "authorship_tag": "ABX9TyOJzSSQKH8yIf/YX7d4PiZL",
      "include_colab_link": true
    },
    "kernelspec": {
      "name": "python3",
      "display_name": "Python 3"
    },
    "language_info": {
      "name": "python"
    }
  },
  "cells": [
    {
      "cell_type": "markdown",
      "metadata": {
        "id": "view-in-github",
        "colab_type": "text"
      },
      "source": [
        "<a href=\"https://colab.research.google.com/github/sundar-nallalagappan/Coursera_NLP_assignments/blob/main/IMDB_TF_Embeddings.ipynb\" target=\"_parent\"><img src=\"https://colab.research.google.com/assets/colab-badge.svg\" alt=\"Open In Colab\"/></a>"
      ]
    },
    {
      "cell_type": "code",
      "execution_count": 41,
      "metadata": {
        "colab": {
          "base_uri": "https://localhost:8080/"
        },
        "id": "jMJCidR7dxeb",
        "outputId": "2156db67-370a-48f9-d986-4cb8ee13a9aa"
      },
      "outputs": [
        {
          "output_type": "stream",
          "name": "stdout",
          "text": [
            "sairam\n"
          ]
        }
      ],
      "source": [
        "print(\"sairam\")"
      ]
    },
    {
      "cell_type": "markdown",
      "source": [
        "# Import the needed libraries"
      ],
      "metadata": {
        "id": "kYwey_ZMktN2"
      }
    },
    {
      "cell_type": "code",
      "source": [
        "from keras.layers.pooling.global_average_pooling1d import GlobalAveragePooling1D\n",
        "import tensorflow as tf\n",
        "print(tf.__version__)\n",
        "from tensorflow import keras\n",
        "import tensorflow_datasets as tfds\n",
        "\n",
        "from keras.layers import Dense, Embedding, Flatten, GlobalAveragePooling1D\n",
        "from keras.models import Sequential\n",
        "from keras.preprocessing.text import Tokenizer\n",
        "from keras.utils import pad_sequences\n",
        "\n",
        "\n",
        "import pandas as pd\n",
        "import numpy as np\n",
        "import os, io"
      ],
      "metadata": {
        "colab": {
          "base_uri": "https://localhost:8080/"
        },
        "id": "VMvJBm8YexOL",
        "outputId": "73ed03ad-cb3b-4a36-aae4-33ef77fca500"
      },
      "execution_count": 42,
      "outputs": [
        {
          "output_type": "stream",
          "name": "stdout",
          "text": [
            "2.12.0\n"
          ]
        }
      ]
    },
    {
      "cell_type": "markdown",
      "source": [
        "# Load the data from Tensorflow data services"
      ],
      "metadata": {
        "id": "WLz-o_ebkvMu"
      }
    },
    {
      "cell_type": "code",
      "source": [
        "imdb, info = tfds.load(\"imdb_reviews\", as_supervised=True, with_info=True)"
      ],
      "metadata": {
        "id": "boxuDf3UfBif"
      },
      "execution_count": 43,
      "outputs": []
    },
    {
      "cell_type": "code",
      "source": [
        "train, test = imdb['train'], imdb['test']\n",
        "print(type(train))"
      ],
      "metadata": {
        "colab": {
          "base_uri": "https://localhost:8080/"
        },
        "id": "4jcKnAHwfp1U",
        "outputId": "46795cb3-b2e8-45fd-95e5-4720db9f53b9"
      },
      "execution_count": 44,
      "outputs": [
        {
          "output_type": "stream",
          "name": "stdout",
          "text": [
            "<class 'tensorflow.python.data.ops.prefetch_op._PrefetchDataset'>\n"
          ]
        }
      ]
    },
    {
      "cell_type": "code",
      "source": [
        "for row in train.take(2):\n",
        "  print(row)"
      ],
      "metadata": {
        "colab": {
          "base_uri": "https://localhost:8080/"
        },
        "id": "NpY5Xw51gI6d",
        "outputId": "8fbe4ba0-3300-4ef5-8b8a-65b740b673bf"
      },
      "execution_count": 45,
      "outputs": [
        {
          "output_type": "stream",
          "name": "stdout",
          "text": [
            "(<tf.Tensor: shape=(), dtype=string, numpy=b\"This was an absolutely terrible movie. Don't be lured in by Christopher Walken or Michael Ironside. Both are great actors, but this must simply be their worst role in history. Even their great acting could not redeem this movie's ridiculous storyline. This movie is an early nineties US propaganda piece. The most pathetic scenes were those when the Columbian rebels were making their cases for revolutions. Maria Conchita Alonso appeared phony, and her pseudo-love affair with Walken was nothing but a pathetic emotional plug in a movie that was devoid of any real meaning. I am disappointed that there are movies like this, ruining actor's like Christopher Walken's good name. I could barely sit through it.\">, <tf.Tensor: shape=(), dtype=int64, numpy=0>)\n",
            "(<tf.Tensor: shape=(), dtype=string, numpy=b'I have been known to fall asleep during films, but this is usually due to a combination of things including, really tired, being warm and comfortable on the sette and having just eaten a lot. However on this occasion I fell asleep because the film was rubbish. The plot development was constant. Constantly slow and boring. Things seemed to happen, but with no explanation of what was causing them or why. I admit, I may have missed part of the film, but i watched the majority of it and everything just seemed to happen of its own accord without any real concern for anything else. I cant recommend this film at all.'>, <tf.Tensor: shape=(), dtype=int64, numpy=0>)\n"
          ]
        }
      ]
    },
    {
      "cell_type": "markdown",
      "source": [
        "# convert the tensor to numpy"
      ],
      "metadata": {
        "id": "xSxDVCI2kzMf"
      }
    },
    {
      "cell_type": "code",
      "source": [
        "training_sentences = []\n",
        "training_labels    = []\n",
        "\n",
        "for s, l in train:\n",
        "  #print(s)\n",
        "  #print(type(s.numpy()))\n",
        "  #print(type(s.numpy().decode(\"utf-8\")))\n",
        "  training_sentences.append(s.numpy().decode(\"utf-8\"))\n",
        "  training_labels.append(l.numpy())\n",
        "\n",
        "training_sentences[0], training_labels[0]"
      ],
      "metadata": {
        "colab": {
          "base_uri": "https://localhost:8080/"
        },
        "id": "N8-DARu7gcU8",
        "outputId": "ea088b0c-6021-47cf-e09d-fbd6e9d974a2"
      },
      "execution_count": 46,
      "outputs": [
        {
          "output_type": "execute_result",
          "data": {
            "text/plain": [
              "(\"This was an absolutely terrible movie. Don't be lured in by Christopher Walken or Michael Ironside. Both are great actors, but this must simply be their worst role in history. Even their great acting could not redeem this movie's ridiculous storyline. This movie is an early nineties US propaganda piece. The most pathetic scenes were those when the Columbian rebels were making their cases for revolutions. Maria Conchita Alonso appeared phony, and her pseudo-love affair with Walken was nothing but a pathetic emotional plug in a movie that was devoid of any real meaning. I am disappointed that there are movies like this, ruining actor's like Christopher Walken's good name. I could barely sit through it.\",\n",
              " 0)"
            ]
          },
          "metadata": {},
          "execution_count": 46
        }
      ]
    },
    {
      "cell_type": "code",
      "source": [
        "testing_sentences = []\n",
        "testing_labels    = []\n",
        "\n",
        "for s, l in test:\n",
        "  #print(s)\n",
        "  #print(type(s.numpy()))\n",
        "  #print(type(s.numpy().decode(\"utf-8\")))\n",
        "  testing_sentences.append(s.numpy().decode(\"utf-8\"))\n",
        "  testing_labels.append(l.numpy())\n",
        "\n",
        "testing_sentences[0], testing_labels[0]\n"
      ],
      "metadata": {
        "colab": {
          "base_uri": "https://localhost:8080/"
        },
        "id": "wuixh2Hrgz_S",
        "outputId": "1748b4e0-1265-4d3d-9a61-9ada1b3dfdb0"
      },
      "execution_count": 47,
      "outputs": [
        {
          "output_type": "execute_result",
          "data": {
            "text/plain": [
              "(\"There are films that make careers. For George Romero, it was NIGHT OF THE LIVING DEAD; for Kevin Smith, CLERKS; for Robert Rodriguez, EL MARIACHI. Add to that list Onur Tukel's absolutely amazing DING-A-LING-LESS. Flawless film-making, and as assured and as professional as any of the aforementioned movies. I haven't laughed this hard since I saw THE FULL MONTY. (And, even then, I don't think I laughed quite this hard... So to speak.) Tukel's talent is considerable: DING-A-LING-LESS is so chock full of double entendres that one would have to sit down with a copy of this script and do a line-by-line examination of it to fully appreciate the, uh, breadth and width of it. Every shot is beautifully composed (a clear sign of a sure-handed director), and the performances all around are solid (there's none of the over-the-top scenery chewing one might've expected from a film like this). DING-A-LING-LESS is a film whose time has come.\",\n",
              " 1)"
            ]
          },
          "metadata": {},
          "execution_count": 47
        }
      ]
    },
    {
      "cell_type": "code",
      "source": [
        "training_sentences_final = np.array(training_sentences)\n",
        "testing_sentences_final = np.array(testing_sentences)\n",
        "\n",
        "training_labels_final = np.array(training_labels)\n",
        "testing_labels_final = np.array(testing_labels)\n",
        "\n",
        "training_sentences[0], training_labels_final"
      ],
      "metadata": {
        "colab": {
          "base_uri": "https://localhost:8080/"
        },
        "id": "2tJED15Kjs2U",
        "outputId": "05085c14-22eb-4e96-d914-fef2de57e6cf"
      },
      "execution_count": 48,
      "outputs": [
        {
          "output_type": "execute_result",
          "data": {
            "text/plain": [
              "(\"This was an absolutely terrible movie. Don't be lured in by Christopher Walken or Michael Ironside. Both are great actors, but this must simply be their worst role in history. Even their great acting could not redeem this movie's ridiculous storyline. This movie is an early nineties US propaganda piece. The most pathetic scenes were those when the Columbian rebels were making their cases for revolutions. Maria Conchita Alonso appeared phony, and her pseudo-love affair with Walken was nothing but a pathetic emotional plug in a movie that was devoid of any real meaning. I am disappointed that there are movies like this, ruining actor's like Christopher Walken's good name. I could barely sit through it.\",\n",
              " array([0, 0, 0, ..., 0, 0, 1]))"
            ]
          },
          "metadata": {},
          "execution_count": 48
        }
      ]
    },
    {
      "cell_type": "markdown",
      "source": [
        "# Tokenization"
      ],
      "metadata": {
        "id": "PoMXHZIilOXH"
      }
    },
    {
      "cell_type": "code",
      "source": [
        "oov_token_ = \"<OOV>\"\n",
        "embedding_size = 16\n",
        "vocab_size = 10000\n",
        "max_length = 120"
      ],
      "metadata": {
        "id": "E4o7cEqAlh8Q"
      },
      "execution_count": 49,
      "outputs": []
    },
    {
      "cell_type": "code",
      "source": [
        "tokenization = Tokenizer(num_words=vocab_size, oov_token = oov_token_)\n",
        "tokenization.fit_on_texts(training_sentences_final)\n",
        "\n",
        "word_index = tokenization.word_index\n",
        "print(len(word_index))"
      ],
      "metadata": {
        "colab": {
          "base_uri": "https://localhost:8080/"
        },
        "id": "b5mwOAO7j9K3",
        "outputId": "32b1e5fd-8cbf-4d7b-922c-370ce58ece43"
      },
      "execution_count": 50,
      "outputs": [
        {
          "output_type": "stream",
          "name": "stdout",
          "text": [
            "88583\n"
          ]
        }
      ]
    },
    {
      "cell_type": "code",
      "source": [
        "sequences = tokenization.texts_to_sequences(training_sentences_final)\n",
        "print(sequences[0:2])\n",
        "\n",
        "padded = pad_sequences(sequences, padding=\"post\", truncating=\"post\", maxlen=max_length, )\n",
        "print(padded[0:2])\n"
      ],
      "metadata": {
        "colab": {
          "base_uri": "https://localhost:8080/"
        },
        "id": "THlblndpl40k",
        "outputId": "009127c6-f2bb-48ac-f5c3-1cb74c94fd01"
      },
      "execution_count": 51,
      "outputs": [
        {
          "output_type": "stream",
          "name": "stdout",
          "text": [
            "[[12, 14, 33, 425, 392, 18, 90, 28, 1, 9, 32, 1366, 3585, 40, 486, 1, 197, 24, 85, 154, 19, 12, 213, 329, 28, 66, 247, 215, 9, 477, 58, 66, 85, 114, 98, 22, 5675, 12, 1322, 643, 767, 12, 18, 7, 33, 400, 8170, 176, 2455, 416, 2, 89, 1231, 137, 69, 146, 52, 2, 1, 7577, 69, 229, 66, 2933, 16, 1, 2904, 1, 1, 1479, 4940, 3, 39, 3900, 117, 1584, 17, 3585, 14, 162, 19, 4, 1231, 917, 7917, 9, 4, 18, 13, 14, 4139, 5, 99, 145, 1214, 11, 242, 683, 13, 48, 24, 100, 38, 12, 7181, 5515, 38, 1366, 1, 50, 401, 11, 98, 1197, 867, 141, 10], [11, 26, 75, 571, 6, 805, 2354, 313, 106, 19, 12, 7, 629, 686, 6, 4, 2219, 5, 181, 584, 64, 1454, 110, 2263, 3, 3951, 21, 2, 1, 3, 258, 41, 4677, 4, 174, 188, 21, 12, 4078, 11, 1578, 2354, 86, 2, 20, 14, 1907, 2, 112, 940, 14, 1811, 1340, 548, 3, 355, 181, 466, 6, 591, 19, 17, 55, 1817, 5, 49, 14, 4044, 96, 40, 136, 11, 972, 11, 201, 26, 1046, 171, 5, 2, 20, 19, 11, 294, 2, 2155, 5, 10, 3, 283, 41, 466, 6, 591, 5, 92, 203, 1, 207, 99, 145, 4382, 16, 230, 332, 11, 2486, 384, 12, 20, 31, 30]]\n",
            "[[  12   14   33  425  392   18   90   28    1    9   32 1366 3585   40\n",
            "   486    1  197   24   85  154   19   12  213  329   28   66  247  215\n",
            "     9  477   58   66   85  114   98   22 5675   12 1322  643  767   12\n",
            "    18    7   33  400 8170  176 2455  416    2   89 1231  137   69  146\n",
            "    52    2    1 7577   69  229   66 2933   16    1 2904    1    1 1479\n",
            "  4940    3   39 3900  117 1584   17 3585   14  162   19    4 1231  917\n",
            "  7917    9    4   18   13   14 4139    5   99  145 1214   11  242  683\n",
            "    13   48   24  100   38   12 7181 5515   38 1366    1   50  401   11\n",
            "    98 1197  867  141   10    0    0    0]\n",
            " [  11   26   75  571    6  805 2354  313  106   19   12    7  629  686\n",
            "     6    4 2219    5  181  584   64 1454  110 2263    3 3951   21    2\n",
            "     1    3  258   41 4677    4  174  188   21   12 4078   11 1578 2354\n",
            "    86    2   20   14 1907    2  112  940   14 1811 1340  548    3  355\n",
            "   181  466    6  591   19   17   55 1817    5   49   14 4044   96   40\n",
            "   136   11  972   11  201   26 1046  171    5    2   20   19   11  294\n",
            "     2 2155    5   10    3  283   41  466    6  591    5   92  203    1\n",
            "   207   99  145 4382   16  230  332   11 2486  384   12   20   31   30\n",
            "     0    0    0    0    0    0    0    0]]\n"
          ]
        }
      ]
    },
    {
      "cell_type": "code",
      "source": [
        "test_sequences = tokenization.texts_to_sequences(testing_sentences)\n",
        "test_padded = pad_sequences(test_sequences, padding=\"post\", truncating=\"post\", maxlen=max_length, )\n",
        "print(test_padded[0:2])"
      ],
      "metadata": {
        "colab": {
          "base_uri": "https://localhost:8080/"
        },
        "id": "e890HCH_mFN3",
        "outputId": "211cb816-8b1d-42da-f011-a64d91a41a69"
      },
      "execution_count": 52,
      "outputs": [
        {
          "output_type": "stream",
          "name": "stdout",
          "text": [
            "[[  48   24  106   13   95 4066   16  740 5065   10   14  312    5    2\n",
            "   579  349   16 1847 1257    1   16  668 7666 5531    1  761    6   13\n",
            "  1026    1    1  425  478    1    4    1  327 3560   20  229    3   15\n",
            "  5742    3   15 1620   15   99    5    2 3550  100   11  772 1498   12\n",
            "   252  235   11  217    2  366 6454    3   58   93   11   90  102   11\n",
            "  1498  177   12  252   36    6 1126    1  674    7 4387    1    4    1\n",
            "   327    7   36 8300  366    5 1403    1   13   29   60   26    6  867\n",
            "   178   17    4 1037    5   12  227    3   79    4  345   32  345 5159\n",
            "     5   10    6 1314 1143    2 5619    1]\n",
            " [   4    1  696  784    5    4  178    1 2326    1 8758    2 8246   13\n",
            "  6079    1   14  500    6 2716    9  110  500    6  374    4 1684    1\n",
            "  9248   17    4 4902    5 8632   15   33    1   37   25 2661  997    5\n",
            "    20  229   10   14   33    1  674    6 6507   17  115  276    3  574\n",
            "  2697    1    1  188 9477  109    5    1  958 2661  106    9 1301    5\n",
            "     2  114 3711    1    7  319 1319    3  754    8    8    2  754 5714\n",
            "     7  140   13   14 4105  172    9    1   91  287  151  301    9 5021\n",
            "    10 3278    2    1 1649   16 1944    3    1 2918    4  924   13 7107\n",
            "    99 4158    5 8514  334    1  188    7]]\n"
          ]
        }
      ]
    },
    {
      "cell_type": "markdown",
      "source": [
        "# Build model"
      ],
      "metadata": {
        "id": "HVO_IDSiqKwu"
      }
    },
    {
      "cell_type": "code",
      "source": [
        "model = Sequential([\n",
        "    Embedding(vocab_size, embedding_size, input_length=max_length),\n",
        "    Flatten(),\n",
        "    Dense(6, \"relu\"),\n",
        "    Dense(1, \"sigmoid\")\n",
        "])\n",
        "\n",
        "model.summary()"
      ],
      "metadata": {
        "colab": {
          "base_uri": "https://localhost:8080/"
        },
        "id": "mYRdy7LpqGXS",
        "outputId": "200de36b-763e-48a4-a583-d79d45ca2732"
      },
      "execution_count": 56,
      "outputs": [
        {
          "output_type": "stream",
          "name": "stdout",
          "text": [
            "Model: \"sequential_2\"\n",
            "_________________________________________________________________\n",
            " Layer (type)                Output Shape              Param #   \n",
            "=================================================================\n",
            " embedding_2 (Embedding)     (None, 120, 16)           160000    \n",
            "                                                                 \n",
            " flatten_1 (Flatten)         (None, 1920)              0         \n",
            "                                                                 \n",
            " dense_4 (Dense)             (None, 6)                 11526     \n",
            "                                                                 \n",
            " dense_5 (Dense)             (None, 1)                 7         \n",
            "                                                                 \n",
            "=================================================================\n",
            "Total params: 171,533\n",
            "Trainable params: 171,533\n",
            "Non-trainable params: 0\n",
            "_________________________________________________________________\n"
          ]
        }
      ]
    },
    {
      "cell_type": "code",
      "source": [
        "model.compile(optimizer=\"adam\", loss=\"binary_crossentropy\", metrics=['accuracy'])"
      ],
      "metadata": {
        "id": "BuyVurZfqXBp"
      },
      "execution_count": 57,
      "outputs": []
    },
    {
      "cell_type": "code",
      "source": [
        "model.fit(padded, training_labels_final, epochs=15, verbose=2, validation_data=(test_padded, testing_labels_final))"
      ],
      "metadata": {
        "colab": {
          "base_uri": "https://localhost:8080/"
        },
        "id": "anT8oB0LqjnQ",
        "outputId": "b138eb06-e699-4193-f625-891e33fc960b"
      },
      "execution_count": 58,
      "outputs": [
        {
          "output_type": "stream",
          "name": "stdout",
          "text": [
            "Epoch 1/15\n",
            "782/782 - 5s - loss: 0.4973 - accuracy: 0.7442 - val_loss: 0.3785 - val_accuracy: 0.8274 - 5s/epoch - 6ms/step\n",
            "Epoch 2/15\n",
            "782/782 - 4s - loss: 0.2404 - accuracy: 0.9076 - val_loss: 0.4097 - val_accuracy: 0.8221 - 4s/epoch - 5ms/step\n",
            "Epoch 3/15\n",
            "782/782 - 4s - loss: 0.0970 - accuracy: 0.9756 - val_loss: 0.5010 - val_accuracy: 0.8073 - 4s/epoch - 5ms/step\n",
            "Epoch 4/15\n",
            "782/782 - 4s - loss: 0.0291 - accuracy: 0.9959 - val_loss: 0.5931 - val_accuracy: 0.8073 - 4s/epoch - 5ms/step\n",
            "Epoch 5/15\n",
            "782/782 - 4s - loss: 0.0111 - accuracy: 0.9987 - val_loss: 0.6505 - val_accuracy: 0.8076 - 4s/epoch - 5ms/step\n",
            "Epoch 6/15\n",
            "782/782 - 3s - loss: 0.0053 - accuracy: 0.9993 - val_loss: 0.7196 - val_accuracy: 0.8020 - 3s/epoch - 4ms/step\n",
            "Epoch 7/15\n",
            "782/782 - 4s - loss: 0.0026 - accuracy: 0.9997 - val_loss: 0.7835 - val_accuracy: 0.8010 - 4s/epoch - 5ms/step\n",
            "Epoch 8/15\n",
            "782/782 - 4s - loss: 7.7691e-04 - accuracy: 1.0000 - val_loss: 0.8335 - val_accuracy: 0.8050 - 4s/epoch - 5ms/step\n",
            "Epoch 9/15\n",
            "782/782 - 4s - loss: 4.0500e-04 - accuracy: 1.0000 - val_loss: 0.8807 - val_accuracy: 0.8047 - 4s/epoch - 5ms/step\n",
            "Epoch 10/15\n",
            "782/782 - 4s - loss: 1.9030e-04 - accuracy: 1.0000 - val_loss: 0.9200 - val_accuracy: 0.8058 - 4s/epoch - 5ms/step\n",
            "Epoch 11/15\n",
            "782/782 - 4s - loss: 1.1070e-04 - accuracy: 1.0000 - val_loss: 0.9580 - val_accuracy: 0.8062 - 4s/epoch - 6ms/step\n",
            "Epoch 12/15\n",
            "782/782 - 3s - loss: 6.8800e-05 - accuracy: 1.0000 - val_loss: 0.9958 - val_accuracy: 0.8055 - 3s/epoch - 4ms/step\n",
            "Epoch 13/15\n",
            "782/782 - 4s - loss: 4.3675e-05 - accuracy: 1.0000 - val_loss: 1.0344 - val_accuracy: 0.8064 - 4s/epoch - 5ms/step\n",
            "Epoch 14/15\n",
            "782/782 - 4s - loss: 2.7918e-05 - accuracy: 1.0000 - val_loss: 1.0725 - val_accuracy: 0.8062 - 4s/epoch - 5ms/step\n",
            "Epoch 15/15\n",
            "782/782 - 4s - loss: 1.7736e-05 - accuracy: 1.0000 - val_loss: 1.1115 - val_accuracy: 0.8054 - 4s/epoch - 5ms/step\n"
          ]
        },
        {
          "output_type": "execute_result",
          "data": {
            "text/plain": [
              "<keras.callbacks.History at 0x7f92df500a60>"
            ]
          },
          "metadata": {},
          "execution_count": 58
        }
      ]
    },
    {
      "cell_type": "markdown",
      "source": [
        "* Looks to be overfitting"
      ],
      "metadata": {
        "id": "VYtDq22XrBOt"
      }
    },
    {
      "cell_type": "markdown",
      "source": [
        "# Visualize Word Embeddings"
      ],
      "metadata": {
        "id": "rYZuqC7gqzTt"
      }
    },
    {
      "cell_type": "code",
      "source": [
        "embed_layer = model.layers[0]\n",
        "embed_weights = embed_layer.get_weights()[0]\n",
        "embed_weights.shape"
      ],
      "metadata": {
        "colab": {
          "base_uri": "https://localhost:8080/"
        },
        "id": "IDnPc6fyqxWN",
        "outputId": "746898fd-65da-4e78-86cd-655bca3d35df"
      },
      "execution_count": 70,
      "outputs": [
        {
          "output_type": "execute_result",
          "data": {
            "text/plain": [
              "(10000, 16)"
            ]
          },
          "metadata": {},
          "execution_count": 70
        }
      ]
    },
    {
      "cell_type": "markdown",
      "source": [
        "You will need to generate two files:\n",
        "\n",
        "vecs.tsv - contains the vector weights of each word in the vocabulary\n",
        "meta.tsv - contains the words in the vocabulary"
      ],
      "metadata": {
        "id": "JXq8dhhPr6KQ"
      }
    },
    {
      "cell_type": "code",
      "source": [
        "reverse_index_word = tokenization.index_word"
      ],
      "metadata": {
        "id": "B3MSPLztrRth"
      },
      "execution_count": 72,
      "outputs": []
    },
    {
      "cell_type": "code",
      "source": [
        "out_v = io.open(\"vecs.tsv\", \"w\", encoding=\"utf-8\")\n",
        "out_m = io.open(\"meta.tsv\", \"w\", encoding=\"utf-8\")\n",
        "\n",
        "for i in range(1, vocab_size):\n",
        "  word_name      = reverse_index_word.get(i)\n",
        "  word_embedding = embed_weights[i]\n",
        "\n",
        "  out_m.write(word_name + \"\\n\")\n",
        "  out_v.write('\\t'.join([str(e) for e in word_embedding]) + '\\n')\n",
        "\n",
        "out_m.close()\n",
        "out_v.close()\n"
      ],
      "metadata": {
        "id": "KsakHWCOr9Ic"
      },
      "execution_count": 84,
      "outputs": []
    },
    {
      "cell_type": "code",
      "source": [
        "try:\n",
        "  from google.colab import files\n",
        "except ImportError:\n",
        "  print(\"Import exception\")\n",
        "  pass\n",
        "else:\n",
        "  files.download('vecs.tsv')\n",
        "  files.download('meta.tsv')"
      ],
      "metadata": {
        "colab": {
          "base_uri": "https://localhost:8080/",
          "height": 17
        },
        "id": "Qjj0cOcFsFpt",
        "outputId": "379c19f5-07ff-44b5-a28b-d68739d4f9bf"
      },
      "execution_count": 87,
      "outputs": [
        {
          "output_type": "display_data",
          "data": {
            "text/plain": [
              "<IPython.core.display.Javascript object>"
            ],
            "application/javascript": [
              "\n",
              "    async function download(id, filename, size) {\n",
              "      if (!google.colab.kernel.accessAllowed) {\n",
              "        return;\n",
              "      }\n",
              "      const div = document.createElement('div');\n",
              "      const label = document.createElement('label');\n",
              "      label.textContent = `Downloading \"${filename}\": `;\n",
              "      div.appendChild(label);\n",
              "      const progress = document.createElement('progress');\n",
              "      progress.max = size;\n",
              "      div.appendChild(progress);\n",
              "      document.body.appendChild(div);\n",
              "\n",
              "      const buffers = [];\n",
              "      let downloaded = 0;\n",
              "\n",
              "      const channel = await google.colab.kernel.comms.open(id);\n",
              "      // Send a message to notify the kernel that we're ready.\n",
              "      channel.send({})\n",
              "\n",
              "      for await (const message of channel.messages) {\n",
              "        // Send a message to notify the kernel that we're ready.\n",
              "        channel.send({})\n",
              "        if (message.buffers) {\n",
              "          for (const buffer of message.buffers) {\n",
              "            buffers.push(buffer);\n",
              "            downloaded += buffer.byteLength;\n",
              "            progress.value = downloaded;\n",
              "          }\n",
              "        }\n",
              "      }\n",
              "      const blob = new Blob(buffers, {type: 'application/binary'});\n",
              "      const a = document.createElement('a');\n",
              "      a.href = window.URL.createObjectURL(blob);\n",
              "      a.download = filename;\n",
              "      div.appendChild(a);\n",
              "      a.click();\n",
              "      div.remove();\n",
              "    }\n",
              "  "
            ]
          },
          "metadata": {}
        },
        {
          "output_type": "display_data",
          "data": {
            "text/plain": [
              "<IPython.core.display.Javascript object>"
            ],
            "application/javascript": [
              "download(\"download_80ba68af-67de-4f07-84fe-cc8dc159aaff\", \"vecs.tsv\", 1907084)"
            ]
          },
          "metadata": {}
        },
        {
          "output_type": "display_data",
          "data": {
            "text/plain": [
              "<IPython.core.display.Javascript object>"
            ],
            "application/javascript": [
              "\n",
              "    async function download(id, filename, size) {\n",
              "      if (!google.colab.kernel.accessAllowed) {\n",
              "        return;\n",
              "      }\n",
              "      const div = document.createElement('div');\n",
              "      const label = document.createElement('label');\n",
              "      label.textContent = `Downloading \"${filename}\": `;\n",
              "      div.appendChild(label);\n",
              "      const progress = document.createElement('progress');\n",
              "      progress.max = size;\n",
              "      div.appendChild(progress);\n",
              "      document.body.appendChild(div);\n",
              "\n",
              "      const buffers = [];\n",
              "      let downloaded = 0;\n",
              "\n",
              "      const channel = await google.colab.kernel.comms.open(id);\n",
              "      // Send a message to notify the kernel that we're ready.\n",
              "      channel.send({})\n",
              "\n",
              "      for await (const message of channel.messages) {\n",
              "        // Send a message to notify the kernel that we're ready.\n",
              "        channel.send({})\n",
              "        if (message.buffers) {\n",
              "          for (const buffer of message.buffers) {\n",
              "            buffers.push(buffer);\n",
              "            downloaded += buffer.byteLength;\n",
              "            progress.value = downloaded;\n",
              "          }\n",
              "        }\n",
              "      }\n",
              "      const blob = new Blob(buffers, {type: 'application/binary'});\n",
              "      const a = document.createElement('a');\n",
              "      a.href = window.URL.createObjectURL(blob);\n",
              "      a.download = filename;\n",
              "      div.appendChild(a);\n",
              "      a.click();\n",
              "      div.remove();\n",
              "    }\n",
              "  "
            ]
          },
          "metadata": {}
        },
        {
          "output_type": "display_data",
          "data": {
            "text/plain": [
              "<IPython.core.display.Javascript object>"
            ],
            "application/javascript": [
              "download(\"download_2f4b15a8-483f-473a-bc98-aa2219413d55\", \"meta.tsv\", 76186)"
            ]
          },
          "metadata": {}
        }
      ]
    },
    {
      "cell_type": "code",
      "source": [],
      "metadata": {
        "id": "SwNwYXlOx6iA"
      },
      "execution_count": null,
      "outputs": []
    }
  ]
}