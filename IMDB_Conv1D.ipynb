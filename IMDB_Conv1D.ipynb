{
  "nbformat": 4,
  "nbformat_minor": 0,
  "metadata": {
    "colab": {
      "provenance": [],
      "gpuType": "T4",
      "authorship_tag": "ABX9TyOhdJ1CuM+ut0YJqmA+4L5o",
      "include_colab_link": true
    },
    "kernelspec": {
      "name": "python3",
      "display_name": "Python 3"
    },
    "language_info": {
      "name": "python"
    },
    "accelerator": "GPU"
  },
  "cells": [
    {
      "cell_type": "markdown",
      "metadata": {
        "id": "view-in-github",
        "colab_type": "text"
      },
      "source": [
        "<a href=\"https://colab.research.google.com/github/sundar-nallalagappan/Coursera_NLP_assignments/blob/main/IMDB_Conv1D.ipynb\" target=\"_parent\"><img src=\"https://colab.research.google.com/assets/colab-badge.svg\" alt=\"Open In Colab\"/></a>"
      ]
    },
    {
      "cell_type": "code",
      "execution_count": 16,
      "metadata": {
        "colab": {
          "base_uri": "https://localhost:8080/"
        },
        "id": "XnkfcObM1n3i",
        "outputId": "7f6bc83f-44c7-48f4-bd23-226d8cada7f5"
      },
      "outputs": [
        {
          "output_type": "stream",
          "name": "stdout",
          "text": [
            "sairam\n"
          ]
        }
      ],
      "source": [
        "print(\"sairam\")"
      ]
    },
    {
      "cell_type": "code",
      "source": [
        "import tensorflow as tf\n",
        "from tensorflow import keras\n",
        "\n",
        "from keras.layers import Dense, Flatten, GlobalAveragePooling1D, LSTM, Bidirectional, Embedding, Conv1D\n",
        "from keras.models import Sequential\n",
        "\n",
        "import matplotlib.pyplot as plt\n",
        "import pandas as pd\n",
        "import numpy as np\n",
        "\n",
        "import tensorflow_datasets as tfds"
      ],
      "metadata": {
        "id": "AjE1I7qE1qb1"
      },
      "execution_count": 17,
      "outputs": []
    },
    {
      "cell_type": "code",
      "source": [
        "imdb, info = tfds.load(\"imdb_reviews/subwords8k\", with_info=True, as_supervised=True)\n",
        "imdb"
      ],
      "metadata": {
        "colab": {
          "base_uri": "https://localhost:8080/"
        },
        "id": "JziT0olM1ziv",
        "outputId": "0a8c3a8b-fe6d-4f43-edfc-90588e2132a4"
      },
      "execution_count": 18,
      "outputs": [
        {
          "output_type": "stream",
          "name": "stderr",
          "text": [
            "WARNING:absl:TFDS datasets with text encoding are deprecated and will be removed in a future version. Instead, you should use the plain text version and tokenize the text using `tensorflow_text` (See: https://www.tensorflow.org/tutorials/tensorflow_text/intro#tfdata_example)\n"
          ]
        },
        {
          "output_type": "execute_result",
          "data": {
            "text/plain": [
              "{'train': <_PrefetchDataset element_spec=(TensorSpec(shape=(None,), dtype=tf.int64, name=None), TensorSpec(shape=(), dtype=tf.int64, name=None))>,\n",
              " 'test': <_PrefetchDataset element_spec=(TensorSpec(shape=(None,), dtype=tf.int64, name=None), TensorSpec(shape=(), dtype=tf.int64, name=None))>,\n",
              " 'unsupervised': <_PrefetchDataset element_spec=(TensorSpec(shape=(None,), dtype=tf.int64, name=None), TensorSpec(shape=(), dtype=tf.int64, name=None))>}"
            ]
          },
          "metadata": {},
          "execution_count": 18
        }
      ]
    },
    {
      "cell_type": "code",
      "source": [
        "tokenizer = info.features['text'].encoder"
      ],
      "metadata": {
        "id": "Khzgc-kE1r4q"
      },
      "execution_count": 19,
      "outputs": []
    },
    {
      "cell_type": "code",
      "source": [
        "BUFFER_SIZE = 10000\n",
        "BATCH_SIZE = 256\n",
        "\n",
        "train, test = imdb['train'], imdb['test']\n",
        "\n",
        "train_dataset = train.shuffle(BUFFER_SIZE)\n",
        "\n",
        "train_dataset = train_dataset.padded_batch(BATCH_SIZE)\n",
        "test_dataset  = test.padded_batch(BATCH_SIZE)\n"
      ],
      "metadata": {
        "id": "9hSBTisn1tLJ"
      },
      "execution_count": 20,
      "outputs": []
    },
    {
      "cell_type": "code",
      "source": [
        "batch_size = 1\n",
        "timesteps = 20\n",
        "features = 20\n",
        "filters = 128\n",
        "kernel_size = 5\n",
        "\n",
        "print(f'batch_size: {batch_size}')\n",
        "print(f'timesteps (sequence length): {timesteps}')\n",
        "print(f'features (embedding size): {features}')\n",
        "print(f'filters: {filters}')\n",
        "print(f'kernel_size: {kernel_size}')\n",
        "\n",
        "# Define array input with random values\n",
        "random_input = np.random.rand(batch_size,timesteps,features)\n",
        "print(f'shape of input array: {random_input.shape}')\n",
        "\n",
        "# Pass array to convolution layer and inspect output shape\n",
        "conv1d = tf.keras.layers.Conv1D(filters=filters, kernel_size=kernel_size, activation='relu')\n",
        "result = conv1d(random_input)\n",
        "print(f'shape of conv1d output: {result.shape}')\n",
        "\n",
        "# Pass array to max pooling layer and inspect output shape\n",
        "gmp = tf.keras.layers.GlobalMaxPooling1D()\n",
        "result = gmp(result)\n",
        "print(f'shape of global max pooling output: {result.shape}')"
      ],
      "metadata": {
        "colab": {
          "base_uri": "https://localhost:8080/"
        },
        "id": "caWTMcdc2l_a",
        "outputId": "bdfb8a08-37a3-4f3f-af03-c690808af330"
      },
      "execution_count": 21,
      "outputs": [
        {
          "output_type": "stream",
          "name": "stdout",
          "text": [
            "batch_size: 1\n",
            "timesteps (sequence length): 20\n",
            "features (embedding size): 20\n",
            "filters: 128\n",
            "kernel_size: 5\n",
            "shape of input array: (1, 20, 20)\n",
            "shape of conv1d output: (1, 16, 128)\n",
            "shape of global max pooling output: (1, 128)\n"
          ]
        }
      ]
    },
    {
      "cell_type": "code",
      "source": [
        "embed_size = 64\n",
        "lstm1=64\n",
        "lstm2=32\n",
        "\n",
        "model = Sequential([\n",
        "    Embedding(tokenizer.vocab_size, embed_size),\n",
        "    Conv1D(128, 5, activation=\"relu\"),\n",
        "    GlobalAveragePooling1D(),\n",
        "    Dense(64, \"relu\"),\n",
        "    Dense(1, \"sigmoid\")\n",
        "])\n",
        "\n",
        "model.summary()\n"
      ],
      "metadata": {
        "colab": {
          "base_uri": "https://localhost:8080/"
        },
        "id": "zeLMY5Cm1ueK",
        "outputId": "b61bd7ce-4d79-4c32-e326-6c1c76d33213"
      },
      "execution_count": 22,
      "outputs": [
        {
          "output_type": "stream",
          "name": "stdout",
          "text": [
            "Model: \"sequential_1\"\n",
            "_________________________________________________________________\n",
            " Layer (type)                Output Shape              Param #   \n",
            "=================================================================\n",
            " embedding_2 (Embedding)     (None, None, 64)          523840    \n",
            "                                                                 \n",
            " conv1d_3 (Conv1D)           (None, None, 128)         41088     \n",
            "                                                                 \n",
            " global_average_pooling1d_1   (None, 128)              0         \n",
            " (GlobalAveragePooling1D)                                        \n",
            "                                                                 \n",
            " dense_2 (Dense)             (None, 64)                8256      \n",
            "                                                                 \n",
            " dense_3 (Dense)             (None, 1)                 65        \n",
            "                                                                 \n",
            "=================================================================\n",
            "Total params: 573,249\n",
            "Trainable params: 573,249\n",
            "Non-trainable params: 0\n",
            "_________________________________________________________________\n"
          ]
        }
      ]
    },
    {
      "cell_type": "code",
      "source": [
        "# Set the training parameters\n",
        "model.compile(loss='binary_crossentropy', optimizer='adam', metrics=['accuracy'])\n",
        "\n",
        "NUM_EPOCHS = 10\n",
        "\n",
        "# Train the model\n",
        "history = model.fit(train_dataset, epochs=NUM_EPOCHS, validation_data=test_dataset, batch_size=128)"
      ],
      "metadata": {
        "colab": {
          "base_uri": "https://localhost:8080/"
        },
        "id": "mk_-8cm_2-67",
        "outputId": "caee58a2-dd2c-4a47-a6ab-186bd1914407"
      },
      "execution_count": 15,
      "outputs": [
        {
          "output_type": "stream",
          "name": "stdout",
          "text": [
            "Epoch 1/10\n",
            "98/98 [==============================] - 377s 4s/step - loss: 0.0647 - accuracy: 0.9811 - val_loss: 0.6223 - val_accuracy: 0.8543\n",
            "Epoch 2/10\n",
            "98/98 [==============================] - 353s 4s/step - loss: 0.0524 - accuracy: 0.9863 - val_loss: 0.7018 - val_accuracy: 0.8512\n",
            "Epoch 3/10\n",
            "98/98 [==============================] - 352s 4s/step - loss: 0.0440 - accuracy: 0.9888 - val_loss: 0.7823 - val_accuracy: 0.8502\n",
            "Epoch 4/10\n",
            "98/98 [==============================] - 346s 4s/step - loss: 0.0386 - accuracy: 0.9904 - val_loss: 0.8202 - val_accuracy: 0.8490\n",
            "Epoch 5/10\n",
            "98/98 [==============================] - 354s 4s/step - loss: 0.0313 - accuracy: 0.9936 - val_loss: 0.9019 - val_accuracy: 0.8460\n",
            "Epoch 6/10\n",
            "98/98 [==============================] - 353s 4s/step - loss: 0.0289 - accuracy: 0.9943 - val_loss: 0.9469 - val_accuracy: 0.8430\n",
            "Epoch 7/10\n",
            "98/98 [==============================] - 353s 4s/step - loss: 0.0506 - accuracy: 0.9881 - val_loss: 0.8500 - val_accuracy: 0.8475\n",
            "Epoch 8/10\n",
            "98/98 [==============================] - 355s 4s/step - loss: 0.0316 - accuracy: 0.9909 - val_loss: 0.9946 - val_accuracy: 0.8439\n",
            "Epoch 9/10\n",
            "98/98 [==============================] - 357s 4s/step - loss: 0.0176 - accuracy: 0.9979 - val_loss: 1.0542 - val_accuracy: 0.8430\n",
            "Epoch 10/10\n",
            "98/98 [==============================] - 410s 4s/step - loss: 0.0127 - accuracy: 0.9991 - val_loss: 1.1010 - val_accuracy: 0.8440\n"
          ]
        }
      ]
    },
    {
      "cell_type": "code",
      "source": [
        "import matplotlib.pyplot as plt\n",
        "\n",
        "# Plot utility\n",
        "def plot_graphs(history, string):\n",
        "  plt.plot(history.history[string])\n",
        "  plt.plot(history.history['val_'+string])\n",
        "  plt.xlabel(\"Epochs\")\n",
        "  plt.ylabel(string)\n",
        "  plt.legend([string, 'val_'+string])\n",
        "  plt.show()\n",
        "\n",
        "# Plot the accuracy and results\n",
        "plot_graphs(history, \"accuracy\")\n",
        "plot_graphs(history, \"loss\")"
      ],
      "metadata": {
        "colab": {
          "base_uri": "https://localhost:8080/",
          "height": 881
        },
        "id": "XRwJ_LSo2_QL",
        "outputId": "2ccba712-919f-466b-9f7c-956e3d69f1f6"
      },
      "execution_count": 23,
      "outputs": [
        {
          "output_type": "display_data",
          "data": {
            "text/plain": [
              "<Figure size 640x480 with 1 Axes>"
            ],
            "image/png": "[encoded data removed]"
          },
          "metadata": {}
        },
        {
          "output_type": "display_data",
          "data": {
            "text/plain": [
              "<Figure size 640x480 with 1 Axes>"
            ],
            "image/png": "[encoded data removed]"
          },
          "metadata": {}
        }
      ]
    },
    {
      "cell_type": "code",
      "source": [],
      "metadata": {
        "id": "-vGJ9q7S3EmO"
      },
      "execution_count": 23,
      "outputs": []
    }
  ]
}